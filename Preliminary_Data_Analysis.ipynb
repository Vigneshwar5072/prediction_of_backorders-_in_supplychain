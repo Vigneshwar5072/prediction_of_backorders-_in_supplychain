{
 "cells": [
  {
   "cell_type": "markdown",
   "metadata": {},
   "source": [
    "# Preliminary Data Analysis with Sample Data"
   ]
  },
  {
   "cell_type": "code",
   "execution_count": 1,
   "metadata": {},
   "outputs": [],
   "source": [
    "#Importing the packages\n",
    "import pandas as pd\n",
    "import numpy as np\n",
    "import matplotlib.pylab as plt\n",
    "import seaborn as sns\n",
    "from sklearn.model_selection import train_test_split\n",
    "from sklearn.linear_model import LogisticRegression\n",
    "from sklearn.metrics import classification_report\n",
    "from sklearn.metrics import accuracy_score\n",
    "from sklearn.metrics import roc_curve\n",
    "from sklearn.model_selection import cross_val_score\n",
    "from sklearn.model_selection import GridSearchCV\n",
    "from sklearn import svm\n",
    "from sklearn.model_selection import RandomizedSearchCV\n",
    "from sklearn.ensemble import RandomForestClassifier\n",
    "from sklearn.ensemble import GradientBoostingClassifier\n",
    "from sklearn.ensemble import AdaBoostClassifier\n",
    "from scipy import stats as st\n",
    "from sklearn.neighbors import KNeighborsClassifier\n",
    "from sklearn.preprocessing import StandardScaler\n",
    "from sklearn.pipeline import Pipeline\n",
    "from sklearn.metrics import precision_score\n",
    "from sklearn.metrics import average_precision_score\n",
    "from sklearn.metrics import precision_recall_curve\n",
    "%matplotlib inline"
   ]
  },
  {
   "cell_type": "markdown",
   "metadata": {},
   "source": [
    "As a part of the preliminary data analysis, will be working on 30% of the data.\n",
    "\n",
    "1. Within the 30% of the data, will be splitting the data into train and test.\n",
    "\n",
    "2. Will be validating the models with the sample before working on the full datasets.\n",
    "\n",
    "3. Precision of the models are validated through the recall_precision_curve.\n"
   ]
  },
  {
   "cell_type": "code",
   "execution_count": 2,
   "metadata": {},
   "outputs": [
    {
     "data": {
      "text/html": [
       "<div>\n",
       "<style scoped>\n",
       "    .dataframe tbody tr th:only-of-type {\n",
       "        vertical-align: middle;\n",
       "    }\n",
       "\n",
       "    .dataframe tbody tr th {\n",
       "        vertical-align: top;\n",
       "    }\n",
       "\n",
       "    .dataframe thead th {\n",
       "        text-align: right;\n",
       "    }\n",
       "</style>\n",
       "<table border=\"1\" class=\"dataframe\">\n",
       "  <thead>\n",
       "    <tr style=\"text-align: right;\">\n",
       "      <th></th>\n",
       "      <th>product_id</th>\n",
       "      <th>current_inventory</th>\n",
       "      <th>transit_duration</th>\n",
       "      <th>prior_sales_1_month</th>\n",
       "      <th>prior_sales_3_month</th>\n",
       "      <th>prior_sales_6_month</th>\n",
       "      <th>prior_sales_9_month</th>\n",
       "      <th>minimum_recommend_stock</th>\n",
       "      <th>source_has_issue</th>\n",
       "      <th>source_performance_6_months</th>\n",
       "      <th>source_performance_12_months</th>\n",
       "      <th>deck_risk</th>\n",
       "      <th>oe_constraint</th>\n",
       "      <th>ppap_risk</th>\n",
       "      <th>stop_auto_buy</th>\n",
       "      <th>rev_stop</th>\n",
       "      <th>went_on_backorder</th>\n",
       "    </tr>\n",
       "  </thead>\n",
       "  <tbody>\n",
       "    <tr>\n",
       "      <th>0</th>\n",
       "      <td>1026827</td>\n",
       "      <td>0.0</td>\n",
       "      <td>8.0</td>\n",
       "      <td>0.0</td>\n",
       "      <td>0.0</td>\n",
       "      <td>0.0</td>\n",
       "      <td>0.0</td>\n",
       "      <td>0.0</td>\n",
       "      <td>No</td>\n",
       "      <td>0.84</td>\n",
       "      <td>0.83</td>\n",
       "      <td>No</td>\n",
       "      <td>No</td>\n",
       "      <td>No</td>\n",
       "      <td>Yes</td>\n",
       "      <td>No</td>\n",
       "      <td>No</td>\n",
       "    </tr>\n",
       "    <tr>\n",
       "      <th>1</th>\n",
       "      <td>1043384</td>\n",
       "      <td>2.0</td>\n",
       "      <td>9.0</td>\n",
       "      <td>0.0</td>\n",
       "      <td>0.0</td>\n",
       "      <td>0.0</td>\n",
       "      <td>0.0</td>\n",
       "      <td>0.0</td>\n",
       "      <td>No</td>\n",
       "      <td>0.99</td>\n",
       "      <td>0.99</td>\n",
       "      <td>No</td>\n",
       "      <td>No</td>\n",
       "      <td>No</td>\n",
       "      <td>Yes</td>\n",
       "      <td>No</td>\n",
       "      <td>No</td>\n",
       "    </tr>\n",
       "    <tr>\n",
       "      <th>2</th>\n",
       "      <td>1043696</td>\n",
       "      <td>2.0</td>\n",
       "      <td>8.0</td>\n",
       "      <td>0.0</td>\n",
       "      <td>0.0</td>\n",
       "      <td>0.0</td>\n",
       "      <td>0.0</td>\n",
       "      <td>0.0</td>\n",
       "      <td>No</td>\n",
       "      <td>0.84</td>\n",
       "      <td>0.83</td>\n",
       "      <td>Yes</td>\n",
       "      <td>No</td>\n",
       "      <td>No</td>\n",
       "      <td>Yes</td>\n",
       "      <td>No</td>\n",
       "      <td>No</td>\n",
       "    </tr>\n",
       "    <tr>\n",
       "      <th>3</th>\n",
       "      <td>1043852</td>\n",
       "      <td>7.0</td>\n",
       "      <td>8.0</td>\n",
       "      <td>0.0</td>\n",
       "      <td>0.0</td>\n",
       "      <td>0.0</td>\n",
       "      <td>0.0</td>\n",
       "      <td>1.0</td>\n",
       "      <td>No</td>\n",
       "      <td>0.10</td>\n",
       "      <td>0.13</td>\n",
       "      <td>No</td>\n",
       "      <td>No</td>\n",
       "      <td>No</td>\n",
       "      <td>Yes</td>\n",
       "      <td>No</td>\n",
       "      <td>No</td>\n",
       "    </tr>\n",
       "    <tr>\n",
       "      <th>4</th>\n",
       "      <td>1044048</td>\n",
       "      <td>8.0</td>\n",
       "      <td>8.0</td>\n",
       "      <td>0.0</td>\n",
       "      <td>0.0</td>\n",
       "      <td>0.0</td>\n",
       "      <td>4.0</td>\n",
       "      <td>2.0</td>\n",
       "      <td>No</td>\n",
       "      <td>0.84</td>\n",
       "      <td>0.83</td>\n",
       "      <td>Yes</td>\n",
       "      <td>No</td>\n",
       "      <td>No</td>\n",
       "      <td>Yes</td>\n",
       "      <td>No</td>\n",
       "      <td>No</td>\n",
       "    </tr>\n",
       "  </tbody>\n",
       "</table>\n",
       "</div>"
      ],
      "text/plain": [
       "   product_id  current_inventory  transit_duration  prior_sales_1_month  \\\n",
       "0     1026827                0.0               8.0                  0.0   \n",
       "1     1043384                2.0               9.0                  0.0   \n",
       "2     1043696                2.0               8.0                  0.0   \n",
       "3     1043852                7.0               8.0                  0.0   \n",
       "4     1044048                8.0               8.0                  0.0   \n",
       "\n",
       "   prior_sales_3_month  prior_sales_6_month  prior_sales_9_month  \\\n",
       "0                  0.0                  0.0                  0.0   \n",
       "1                  0.0                  0.0                  0.0   \n",
       "2                  0.0                  0.0                  0.0   \n",
       "3                  0.0                  0.0                  0.0   \n",
       "4                  0.0                  0.0                  4.0   \n",
       "\n",
       "   minimum_recommend_stock source_has_issue  source_performance_6_months  \\\n",
       "0                      0.0               No                         0.84   \n",
       "1                      0.0               No                         0.99   \n",
       "2                      0.0               No                         0.84   \n",
       "3                      1.0               No                         0.10   \n",
       "4                      2.0               No                         0.84   \n",
       "\n",
       "   source_performance_12_months deck_risk oe_constraint ppap_risk  \\\n",
       "0                          0.83        No            No        No   \n",
       "1                          0.99        No            No        No   \n",
       "2                          0.83       Yes            No        No   \n",
       "3                          0.13        No            No        No   \n",
       "4                          0.83       Yes            No        No   \n",
       "\n",
       "  stop_auto_buy rev_stop went_on_backorder  \n",
       "0           Yes       No                No  \n",
       "1           Yes       No                No  \n",
       "2           Yes       No                No  \n",
       "3           Yes       No                No  \n",
       "4           Yes       No                No  "
      ]
     },
     "execution_count": 2,
     "metadata": {},
     "output_type": "execute_result"
    }
   ],
   "source": [
    "#Reading the clean file\n",
    "masterData = pd.read_csv('Backorder.csv')\n",
    "masterData.head()\n"
   ]
  },
  {
   "cell_type": "code",
   "execution_count": 3,
   "metadata": {},
   "outputs": [
    {
     "data": {
      "text/plain": [
       "((1861509, 17), (1861509,))"
      ]
     },
     "execution_count": 3,
     "metadata": {},
     "output_type": "execute_result"
    }
   ],
   "source": [
    "#Preparing the data for modeling\n",
    "#X = pd.DataFrame(masterData.columns)\n",
    "X = masterData[masterData.columns]\n",
    "y = masterData['went_on_backorder']\n",
    "X.shape, y.shape"
   ]
  },
  {
   "cell_type": "code",
   "execution_count": 4,
   "metadata": {},
   "outputs": [
    {
     "data": {
      "text/plain": [
       "((1861509, 10), (1861509,))"
      ]
     },
     "execution_count": 4,
     "metadata": {},
     "output_type": "execute_result"
    }
   ],
   "source": [
    "#Convert the categorical data into numerical\n",
    "y = y.replace('Yes', 1)\n",
    "y = y.replace('No', 0)\n",
    "X['source_has_issue'] = X.source_has_issue.map({'Yes':1, 'No':0})\n",
    "X['deck_risk'] = X.deck_risk.map({'Yes':1, 'No':0})\n",
    "X['oe_constraint'] = X.oe_constraint.map({'Yes':1, 'No':0})\n",
    "X['ppap_risk'] = X.ppap_risk.map({'Yes':1, 'No':0})\n",
    "X['stop_auto_buy'] = X.stop_auto_buy.map({'Yes':1, 'No':0})\n",
    "X['rev_stop'] = X.rev_stop.map({'Yes':1, 'No':0})\n",
    "X = X.drop(['went_on_backorder', 'source_has_issue', 'rev_stop', 'deck_risk', 'ppap_risk', 'stop_auto_buy','product_id'], axis = 1, errors = 'ignore')\n",
    "X.shape, y.shape"
   ]
  },
  {
   "cell_type": "code",
   "execution_count": 5,
   "metadata": {},
   "outputs": [
    {
     "data": {
      "text/plain": [
       "((558452, 10), (558452,), (1303057, 10), (1303057,))"
      ]
     },
     "execution_count": 5,
     "metadata": {},
     "output_type": "execute_result"
    }
   ],
   "source": [
    "#get the 30% of the data\n",
    "X_sample, X_data, y_sample, y_data = train_test_split(X, y, test_size = 0.70, random_state = 42)\n",
    "X_sample.shape, y_sample.shape, X_data.shape, y_data.shape"
   ]
  },
  {
   "cell_type": "code",
   "execution_count": 6,
   "metadata": {},
   "outputs": [
    {
     "data": {
      "text/plain": [
       "((390916, 10), (167536, 10), (390916,), (167536,))"
      ]
     },
     "execution_count": 6,
     "metadata": {},
     "output_type": "execute_result"
    }
   ],
   "source": [
    "X_train, X_test, y_train, y_test = train_test_split(X_sample, y_sample, test_size = 0.30, random_state = 42)\n",
    "X_train.shape, X_test.shape, y_train.shape, y_test.shape"
   ]
  },
  {
   "cell_type": "markdown",
   "metadata": {},
   "source": [
    "# Training the KNN Model Classifier"
   ]
  },
  {
   "cell_type": "code",
   "execution_count": 7,
   "metadata": {},
   "outputs": [
    {
     "name": "stdout",
     "output_type": "stream",
     "text": [
      "              precision    recall  f1-score   support\n",
      "\n",
      "           0       0.99      1.00      1.00    166307\n",
      "           1       0.29      0.02      0.04      1229\n",
      "\n",
      "    accuracy                           0.99    167536\n",
      "   macro avg       0.64      0.51      0.52    167536\n",
      "weighted avg       0.99      0.99      0.99    167536\n",
      "\n"
     ]
    }
   ],
   "source": [
    "steps = [('scaler', StandardScaler()),\n",
    "        ('knn', KNeighborsClassifier(n_jobs = -1))]\n",
    "#Create the pipeline: pipeline\n",
    "pipeline_knn = Pipeline(steps)\n",
    "\n",
    "# Fit to the training set\n",
    "pipeline_knn.fit(X_train, y_train)\n",
    "knn_prediction = pipeline_knn.predict( X_test )\n",
    "# get the classification report\n",
    "knn_report = classification_report( y_test, knn_prediction )\n",
    "#print the report\n",
    "print(knn_report)"
   ]
  },
  {
   "cell_type": "markdown",
   "metadata": {},
   "source": [
    "# Training the SVC Model Classifier"
   ]
  },
  {
   "cell_type": "code",
   "execution_count": null,
   "metadata": {},
   "outputs": [],
   "source": [
    "steps = [('scaler', StandardScaler()),\n",
    "        ('svc', svm.SVC(class_weight = 'balanced'))]\n",
    "#Create the pipeline: pipeline\n",
    "pipeline_svc = Pipeline(steps)\n",
    "\n",
    "# Fit to the training set\n",
    "pipeline_svc.fit(X_train, y_train)\n",
    "svc_prediction = pipeline_svc.predict( X_test )\n",
    "# get the classification report\n",
    "svc_report = classification_report( y_test, svc_prediction )\n",
    "#print the report\n",
    "print(svc_report)"
   ]
  },
  {
   "cell_type": "markdown",
   "metadata": {},
   "source": [
    "# Training the LogisticRegression Model "
   ]
  },
  {
   "cell_type": "code",
   "execution_count": 8,
   "metadata": {},
   "outputs": [
    {
     "name": "stderr",
     "output_type": "stream",
     "text": [
      "C:\\Users\\VigneshwarPesaru\\anaconda3\\lib\\site-packages\\sklearn\\linear_model\\_logistic.py:763: ConvergenceWarning: lbfgs failed to converge (status=1):\n",
      "STOP: TOTAL NO. of ITERATIONS REACHED LIMIT.\n",
      "\n",
      "Increase the number of iterations (max_iter) or scale the data as shown in:\n",
      "    https://scikit-learn.org/stable/modules/preprocessing.html\n",
      "Please also refer to the documentation for alternative solver options:\n",
      "    https://scikit-learn.org/stable/modules/linear_model.html#logistic-regression\n",
      "  n_iter_i = _check_optimize_result(\n"
     ]
    },
    {
     "name": "stdout",
     "output_type": "stream",
     "text": [
      "              precision    recall  f1-score   support\n",
      "\n",
      "           0       1.00      0.64      0.78    166307\n",
      "           1       0.01      0.68      0.03      1229\n",
      "\n",
      "    accuracy                           0.64    167536\n",
      "   macro avg       0.50      0.66      0.40    167536\n",
      "weighted avg       0.99      0.64      0.77    167536\n",
      "\n"
     ]
    }
   ],
   "source": [
    "steps = [('scaler', StandardScaler()),\n",
    "        ('logreg', LogisticRegression(class_weight = 'balanced'))]\n",
    "#Create the pipeline: pipeline\n",
    "pipeline_logreg = Pipeline(steps)\n",
    "\n",
    "# Fit to the training set\n",
    "pipeline_logreg.fit(X_train, y_train)\n",
    "logreg_prediction = pipeline_logreg.predict( X_test )\n",
    "# get the classification report\n",
    "logreg_report = classification_report( y_test, logreg_prediction )\n",
    "#print the report\n",
    "print(logreg_report)"
   ]
  },
  {
   "cell_type": "markdown",
   "metadata": {},
   "source": [
    "# Training the RandomForest Classifier"
   ]
  },
  {
   "cell_type": "code",
   "execution_count": 9,
   "metadata": {},
   "outputs": [
    {
     "name": "stdout",
     "output_type": "stream",
     "text": [
      "              precision    recall  f1-score   support\n",
      "\n",
      "           0       0.99      1.00      1.00    166307\n",
      "           1       0.59      0.09      0.15      1229\n",
      "\n",
      "    accuracy                           0.99    167536\n",
      "   macro avg       0.79      0.54      0.57    167536\n",
      "weighted avg       0.99      0.99      0.99    167536\n",
      "\n"
     ]
    }
   ],
   "source": [
    "#Train default RandomForest on 30% of the data\n",
    "rfmodel = RandomForestClassifier(random_state = 42)\n",
    "#Fit the training set\n",
    "rfmodel.fit(X_train, y_train)\n",
    "rfmodel_prediction = rfmodel.predict(X_test)\n",
    "#get the classification report\n",
    "rfmodel_report =  classification_report(y_test, rfmodel_prediction)\n",
    "#print the report\n",
    "print(rfmodel_report)"
   ]
  },
  {
   "cell_type": "markdown",
   "metadata": {},
   "source": [
    "# Training GradientBoosting Classifier model"
   ]
  },
  {
   "cell_type": "code",
   "execution_count": 10,
   "metadata": {},
   "outputs": [
    {
     "name": "stdout",
     "output_type": "stream",
     "text": [
      "              precision    recall  f1-score   support\n",
      "\n",
      "           0       0.99      1.00      1.00    166307\n",
      "           1       0.41      0.02      0.04      1229\n",
      "\n",
      "    accuracy                           0.99    167536\n",
      "   macro avg       0.70      0.51      0.52    167536\n",
      "weighted avg       0.99      0.99      0.99    167536\n",
      "\n"
     ]
    }
   ],
   "source": [
    "#Train default RandomForest on 30% of the data\n",
    "gbmodel = GradientBoostingClassifier(random_state = 42)\n",
    "#Fit the training set\n",
    "gbmodel.fit(X_train, y_train)\n",
    "gbmodel_prediction = gbmodel.predict(X_test)\n",
    "#get the classification report\n",
    "gbmodel_report =  classification_report(y_test, gbmodel_prediction)\n",
    "#print the report\n",
    "print(gbmodel_report)"
   ]
  },
  {
   "cell_type": "markdown",
   "metadata": {},
   "source": [
    "# Training AdaBoostClassifier Model"
   ]
  },
  {
   "cell_type": "code",
   "execution_count": 11,
   "metadata": {},
   "outputs": [
    {
     "name": "stdout",
     "output_type": "stream",
     "text": [
      "              precision    recall  f1-score   support\n",
      "\n",
      "           0       0.99      1.00      1.00    166307\n",
      "           1       0.26      0.03      0.05      1229\n",
      "\n",
      "    accuracy                           0.99    167536\n",
      "   macro avg       0.62      0.51      0.52    167536\n",
      "weighted avg       0.99      0.99      0.99    167536\n",
      "\n"
     ]
    }
   ],
   "source": [
    "#Train default RandomForest on 30% of the data\n",
    "abmodel = AdaBoostClassifier(random_state = 42)\n",
    "#Fit the training set\n",
    "abmodel.fit(X_train, y_train)\n",
    "abmodel_prediction = abmodel.predict(X_test)\n",
    "#get the classification report\n",
    "abmodel_report =  classification_report(y_test, abmodel_prediction)\n",
    "#print the report\n",
    "print(abmodel_report)"
   ]
  },
  {
   "cell_type": "markdown",
   "metadata": {},
   "source": [
    "# Training the AdaBoostClassifier with RandomForest Estimator"
   ]
  },
  {
   "cell_type": "code",
   "execution_count": 16,
   "metadata": {},
   "outputs": [
    {
     "name": "stdout",
     "output_type": "stream",
     "text": [
      "              precision    recall  f1-score   support\n",
      "\n",
      "           0       0.99      1.00      1.00    166307\n",
      "           1       0.57      0.07      0.13      1229\n",
      "\n",
      "    accuracy                           0.99    167536\n",
      "   macro avg       0.78      0.54      0.56    167536\n",
      "weighted avg       0.99      0.99      0.99    167536\n",
      "\n"
     ]
    }
   ],
   "source": [
    "#Train default RandomForest on 30% of the data\n",
    "abmodel_rf = AdaBoostClassifier(base_estimator = rfmodel, random_state = 42)\n",
    "#Fit the training set\n",
    "abmodel_rf.fit(X_train, y_train)\n",
    "abmodel_prediction_rf = abmodel_rf.predict(X_test)\n",
    "#get the classification report\n",
    "abmodel_report_rf =  classification_report(y_test, abmodel_prediction_rf)\n",
    "#print the report\n",
    "print(abmodel_report_rf)"
   ]
  },
  {
   "cell_type": "code",
   "execution_count": 17,
   "metadata": {},
   "outputs": [
    {
     "data": {
      "text/plain": [
       "source_performance_12_months    0.145485\n",
       "current_inventory               0.142338\n",
       "source_performance_6_months     0.141375\n",
       "prior_sales_9_month             0.135402\n",
       "prior_sales_6_month             0.117561\n",
       "prior_sales_3_month             0.102296\n",
       "minimum_recommend_stock         0.081409\n",
       "prior_sales_1_month             0.079745\n",
       "transit_duration                0.053530\n",
       "oe_constraint                   0.000860\n",
       "dtype: float64"
      ]
     },
     "execution_count": 17,
     "metadata": {},
     "output_type": "execute_result"
    }
   ],
   "source": [
    "feature_import_rf = pd.Series(rfmodel.feature_importances_, index = X_test.columns)\n",
    "feature_import_rf.sort_values(ascending = False)\n"
   ]
  },
  {
   "cell_type": "code",
   "execution_count": 18,
   "metadata": {},
   "outputs": [
    {
     "data": {
      "text/plain": [
       "current_inventory               0.403399\n",
       "prior_sales_9_month             0.147748\n",
       "prior_sales_1_month             0.119243\n",
       "prior_sales_3_month             0.113607\n",
       "prior_sales_6_month             0.070783\n",
       "minimum_recommend_stock         0.047207\n",
       "source_performance_6_months     0.042519\n",
       "source_performance_12_months    0.042152\n",
       "transit_duration                0.011791\n",
       "oe_constraint                   0.001552\n",
       "dtype: float64"
      ]
     },
     "execution_count": 18,
     "metadata": {},
     "output_type": "execute_result"
    }
   ],
   "source": [
    "feature_import_gb = pd.Series(gbmodel.feature_importances_, index = X_test.columns)\n",
    "feature_import_gb.sort_values(ascending = False)\n"
   ]
  },
  {
   "cell_type": "markdown",
   "metadata": {},
   "source": [
    "# Traning the AdaBoostClassifier with GradientBoosting Estimator"
   ]
  },
  {
   "cell_type": "code",
   "execution_count": 19,
   "metadata": {},
   "outputs": [
    {
     "name": "stdout",
     "output_type": "stream",
     "text": [
      "              precision    recall  f1-score   support\n",
      "\n",
      "           0       0.99      1.00      1.00    166307\n",
      "           1       0.37      0.04      0.08      1229\n",
      "\n",
      "    accuracy                           0.99    167536\n",
      "   macro avg       0.68      0.52      0.54    167536\n",
      "weighted avg       0.99      0.99      0.99    167536\n",
      "\n"
     ]
    }
   ],
   "source": [
    "#Train default AdaBoost model with the GB estimator\n",
    "abmodel_gb = AdaBoostClassifier(base_estimator = gbmodel, random_state = 42)\n",
    "#Fit the training model\n",
    "abmodel_gb.fit(X_train, y_train)\n",
    "abmodel_prediction_gb = abmodel_gb.predict(X_test)\n",
    "#get the classication report\n",
    "abmodel_report_gb = classification_report(y_test, abmodel_prediction_gb)\n",
    "#print the report\n",
    "print(abmodel_report_gb)"
   ]
  },
  {
   "cell_type": "code",
   "execution_count": 21,
   "metadata": {},
   "outputs": [
    {
     "data": {
      "text/plain": [
       "Text(0.5, 1.0, 'ROC Curve')"
      ]
     },
     "execution_count": 21,
     "metadata": {},
     "output_type": "execute_result"
    },
    {
     "data": {
      "image/png": "[encoded data removed]",
      "text/plain": [
       "<Figure size 648x648 with 1 Axes>"
      ]
     },
     "metadata": {
      "needs_background": "light"
     },
     "output_type": "display_data"
    }
   ],
   "source": [
    "#plot ROC Curves\n",
    "fig , ax1 = plt.subplots(figsize=(9,9) )\n",
    "plt.plot([0, 1], [0, 1], 'k--')\n",
    "estimators =[pipeline_knn, pipeline_logreg, rfmodel, gbmodel, abmodel ]\n",
    "classifiers=['KNN', 'LogisticRegression', 'RandomForestClassifier','GradientBoostingClassifier',\n",
    "           'AdaBoostClassifier']\n",
    "colors = ['b', 'g', 'r', 'c', 'm']\n",
    "for i, estimator in enumerate(estimators):\n",
    "    y_pred_prob = estimator.predict_proba(X_test)[:,1]\n",
    "    fpr, tpr, thresholds= roc_curve(y_test, y_pred_prob)\n",
    "    plt.plot(fpr, tpr, label=classifiers[i],color=colors[i]) \n",
    "plt.xlabel('False Positive Rate')\n",
    "plt.ylabel('True Positive Rate')\n",
    "plt.legend(loc=4)\n",
    "plt.title('ROC Curve')"
   ]
  },
  {
   "cell_type": "code",
   "execution_count": 22,
   "metadata": {},
   "outputs": [
    {
     "data": {
      "text/plain": [
       "Text(0.5, 1.0, 'Recall Precision Curve')"
      ]
     },
     "execution_count": 22,
     "metadata": {},
     "output_type": "execute_result"
    },
    {
     "data": {
      "image/png": "[encoded data removed]",
      "text/plain": [
       "<Figure size 648x648 with 1 Axes>"
      ]
     },
     "metadata": {
      "needs_background": "light"
     },
     "output_type": "display_data"
    }
   ],
   "source": [
    "#plot Recall-Precision Curves\n",
    "fig , ax1 = plt.subplots(figsize=(9,9) )\n",
    "estimators =[pipeline_knn, pipeline_logreg, rfmodel, gbmodel, abmodel ]\n",
    "classifiers=['KNN', 'LogisticRegression', 'RandomForestClassifier','GradientBoostingClassifier',\n",
    "           'AdaBoostClassifier']\n",
    "colors = ['b', 'g', 'r', 'c', 'm']\n",
    "for i, estimator in enumerate(estimators):\n",
    "    y_pred_prob = estimator.predict_proba(X_test)[:,1]\n",
    "    precision, recall, _ = precision_recall_curve(y_test,y_pred_prob)\n",
    "    average_precision= average_precision_score(y_test, y_pred_prob, average=\"micro\")\n",
    "    plt.plot(recall, precision, label='%s (average=%.3f)'%(classifiers[i],average_precision), color=colors[i])\n",
    "plt.xlabel('Recall')\n",
    "plt.ylabel('Precision')\n",
    "plt.legend(loc=1)\n",
    "plt.title('Recall Precision Curve')"
   ]
  },
  {
   "cell_type": "code",
   "execution_count": null,
   "metadata": {},
   "outputs": [],
   "source": []
  }
 ],
 "metadata": {
  "kernelspec": {
   "display_name": "Python 3",
   "language": "python",
   "name": "python3"
  },
  "language_info": {
   "codemirror_mode": {
    "name": "ipython",
    "version": 3
   },
   "file_extension": ".py",
   "mimetype": "text/x-python",
   "name": "python",
   "nbconvert_exporter": "python",
   "pygments_lexer": "ipython3",
   "version": "3.8.5"
  }
 },
 "nbformat": 4,
 "nbformat_minor": 4
}
