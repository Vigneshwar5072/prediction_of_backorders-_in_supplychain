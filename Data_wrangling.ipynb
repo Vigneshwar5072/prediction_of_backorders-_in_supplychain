{
 "cells": [
  {
   "cell_type": "code",
   "execution_count": 1,
   "metadata": {},
   "outputs": [],
   "source": [
    "#Importing the packages\n",
    "import pandas as pd\n",
    "import numpy as np\n",
    "import matplotlib.pylab as plt\n",
    "import seaborn as sns\n",
    "from scipy import stats as st\n",
    "from sklearn.linear_model import LinearRegression\n",
    "%matplotlib inline\n"
   ]
  },
  {
   "cell_type": "code",
   "execution_count": 2,
   "metadata": {},
   "outputs": [
    {
     "name": "stderr",
     "output_type": "stream",
     "text": [
      "C:\\Users\\VigneshwarPesaru\\anaconda3\\lib\\site-packages\\IPython\\core\\interactiveshell.py:3146: DtypeWarning: Columns (0) have mixed types.Specify dtype option on import or set low_memory=False.\n",
      "  has_raised = await self.run_ast_nodes(code_ast.body, cell_name,\n"
     ]
    },
    {
     "name": "stdout",
     "output_type": "stream",
     "text": [
      "masterData shape: (1929937, 23)\n"
     ]
    }
   ],
   "source": [
    "cols=range(0,23)\n",
    "train = pd.read_csv('C:/Users/VigneshwarPesaru/Backorders/Kaggle_Training_Dataset_v2.csv', usecols=cols)\n",
    "test = pd.read_csv('C:/Users/VigneshwarPesaru/Backorders/Kaggle_Test_Dataset_v2.csv', usecols=cols)\n",
    "\n",
    "masterData = train.append(test)\n",
    "print(\"masterData shape:\",masterData.shape)"
   ]
  },
  {
   "cell_type": "code",
   "execution_count": 3,
   "metadata": {},
   "outputs": [
    {
     "data": {
      "text/html": [
       "<div>\n",
       "<style scoped>\n",
       "    .dataframe tbody tr th:only-of-type {\n",
       "        vertical-align: middle;\n",
       "    }\n",
       "\n",
       "    .dataframe tbody tr th {\n",
       "        vertical-align: top;\n",
       "    }\n",
       "\n",
       "    .dataframe thead th {\n",
       "        text-align: right;\n",
       "    }\n",
       "</style>\n",
       "<table border=\"1\" class=\"dataframe\">\n",
       "  <thead>\n",
       "    <tr style=\"text-align: right;\">\n",
       "      <th></th>\n",
       "      <th>sku</th>\n",
       "      <th>national_inv</th>\n",
       "      <th>lead_time</th>\n",
       "      <th>in_transit_qty</th>\n",
       "      <th>forecast_3_month</th>\n",
       "      <th>forecast_6_month</th>\n",
       "      <th>forecast_9_month</th>\n",
       "      <th>sales_1_month</th>\n",
       "      <th>sales_3_month</th>\n",
       "      <th>sales_6_month</th>\n",
       "      <th>...</th>\n",
       "      <th>pieces_past_due</th>\n",
       "      <th>perf_6_month_avg</th>\n",
       "      <th>perf_12_month_avg</th>\n",
       "      <th>local_bo_qty</th>\n",
       "      <th>deck_risk</th>\n",
       "      <th>oe_constraint</th>\n",
       "      <th>ppap_risk</th>\n",
       "      <th>stop_auto_buy</th>\n",
       "      <th>rev_stop</th>\n",
       "      <th>went_on_backorder</th>\n",
       "    </tr>\n",
       "  </thead>\n",
       "  <tbody>\n",
       "    <tr>\n",
       "      <th>0</th>\n",
       "      <td>1026827</td>\n",
       "      <td>0.0</td>\n",
       "      <td>NaN</td>\n",
       "      <td>0.0</td>\n",
       "      <td>0.0</td>\n",
       "      <td>0.0</td>\n",
       "      <td>0.0</td>\n",
       "      <td>0.0</td>\n",
       "      <td>0.0</td>\n",
       "      <td>0.0</td>\n",
       "      <td>...</td>\n",
       "      <td>0.0</td>\n",
       "      <td>-99.00</td>\n",
       "      <td>-99.00</td>\n",
       "      <td>0.0</td>\n",
       "      <td>No</td>\n",
       "      <td>No</td>\n",
       "      <td>No</td>\n",
       "      <td>Yes</td>\n",
       "      <td>No</td>\n",
       "      <td>No</td>\n",
       "    </tr>\n",
       "    <tr>\n",
       "      <th>1</th>\n",
       "      <td>1043384</td>\n",
       "      <td>2.0</td>\n",
       "      <td>9.0</td>\n",
       "      <td>0.0</td>\n",
       "      <td>0.0</td>\n",
       "      <td>0.0</td>\n",
       "      <td>0.0</td>\n",
       "      <td>0.0</td>\n",
       "      <td>0.0</td>\n",
       "      <td>0.0</td>\n",
       "      <td>...</td>\n",
       "      <td>0.0</td>\n",
       "      <td>0.99</td>\n",
       "      <td>0.99</td>\n",
       "      <td>0.0</td>\n",
       "      <td>No</td>\n",
       "      <td>No</td>\n",
       "      <td>No</td>\n",
       "      <td>Yes</td>\n",
       "      <td>No</td>\n",
       "      <td>No</td>\n",
       "    </tr>\n",
       "    <tr>\n",
       "      <th>2</th>\n",
       "      <td>1043696</td>\n",
       "      <td>2.0</td>\n",
       "      <td>NaN</td>\n",
       "      <td>0.0</td>\n",
       "      <td>0.0</td>\n",
       "      <td>0.0</td>\n",
       "      <td>0.0</td>\n",
       "      <td>0.0</td>\n",
       "      <td>0.0</td>\n",
       "      <td>0.0</td>\n",
       "      <td>...</td>\n",
       "      <td>0.0</td>\n",
       "      <td>-99.00</td>\n",
       "      <td>-99.00</td>\n",
       "      <td>0.0</td>\n",
       "      <td>Yes</td>\n",
       "      <td>No</td>\n",
       "      <td>No</td>\n",
       "      <td>Yes</td>\n",
       "      <td>No</td>\n",
       "      <td>No</td>\n",
       "    </tr>\n",
       "    <tr>\n",
       "      <th>3</th>\n",
       "      <td>1043852</td>\n",
       "      <td>7.0</td>\n",
       "      <td>8.0</td>\n",
       "      <td>0.0</td>\n",
       "      <td>0.0</td>\n",
       "      <td>0.0</td>\n",
       "      <td>0.0</td>\n",
       "      <td>0.0</td>\n",
       "      <td>0.0</td>\n",
       "      <td>0.0</td>\n",
       "      <td>...</td>\n",
       "      <td>0.0</td>\n",
       "      <td>0.10</td>\n",
       "      <td>0.13</td>\n",
       "      <td>0.0</td>\n",
       "      <td>No</td>\n",
       "      <td>No</td>\n",
       "      <td>No</td>\n",
       "      <td>Yes</td>\n",
       "      <td>No</td>\n",
       "      <td>No</td>\n",
       "    </tr>\n",
       "    <tr>\n",
       "      <th>4</th>\n",
       "      <td>1044048</td>\n",
       "      <td>8.0</td>\n",
       "      <td>NaN</td>\n",
       "      <td>0.0</td>\n",
       "      <td>0.0</td>\n",
       "      <td>0.0</td>\n",
       "      <td>0.0</td>\n",
       "      <td>0.0</td>\n",
       "      <td>0.0</td>\n",
       "      <td>0.0</td>\n",
       "      <td>...</td>\n",
       "      <td>0.0</td>\n",
       "      <td>-99.00</td>\n",
       "      <td>-99.00</td>\n",
       "      <td>0.0</td>\n",
       "      <td>Yes</td>\n",
       "      <td>No</td>\n",
       "      <td>No</td>\n",
       "      <td>Yes</td>\n",
       "      <td>No</td>\n",
       "      <td>No</td>\n",
       "    </tr>\n",
       "  </tbody>\n",
       "</table>\n",
       "<p>5 rows × 23 columns</p>\n",
       "</div>"
      ],
      "text/plain": [
       "       sku  national_inv  lead_time  in_transit_qty  forecast_3_month  \\\n",
       "0  1026827           0.0        NaN             0.0               0.0   \n",
       "1  1043384           2.0        9.0             0.0               0.0   \n",
       "2  1043696           2.0        NaN             0.0               0.0   \n",
       "3  1043852           7.0        8.0             0.0               0.0   \n",
       "4  1044048           8.0        NaN             0.0               0.0   \n",
       "\n",
       "   forecast_6_month  forecast_9_month  sales_1_month  sales_3_month  \\\n",
       "0               0.0               0.0            0.0            0.0   \n",
       "1               0.0               0.0            0.0            0.0   \n",
       "2               0.0               0.0            0.0            0.0   \n",
       "3               0.0               0.0            0.0            0.0   \n",
       "4               0.0               0.0            0.0            0.0   \n",
       "\n",
       "   sales_6_month  ...  pieces_past_due  perf_6_month_avg perf_12_month_avg  \\\n",
       "0            0.0  ...              0.0            -99.00            -99.00   \n",
       "1            0.0  ...              0.0              0.99              0.99   \n",
       "2            0.0  ...              0.0            -99.00            -99.00   \n",
       "3            0.0  ...              0.0              0.10              0.13   \n",
       "4            0.0  ...              0.0            -99.00            -99.00   \n",
       "\n",
       "   local_bo_qty  deck_risk  oe_constraint  ppap_risk stop_auto_buy rev_stop  \\\n",
       "0           0.0         No             No         No           Yes       No   \n",
       "1           0.0         No             No         No           Yes       No   \n",
       "2           0.0        Yes             No         No           Yes       No   \n",
       "3           0.0         No             No         No           Yes       No   \n",
       "4           0.0        Yes             No         No           Yes       No   \n",
       "\n",
       "  went_on_backorder  \n",
       "0                No  \n",
       "1                No  \n",
       "2                No  \n",
       "3                No  \n",
       "4                No  \n",
       "\n",
       "[5 rows x 23 columns]"
      ]
     },
     "execution_count": 3,
     "metadata": {},
     "output_type": "execute_result"
    }
   ],
   "source": [
    "masterData.head()"
   ]
  },
  {
   "cell_type": "code",
   "execution_count": 4,
   "metadata": {},
   "outputs": [
    {
     "name": "stdout",
     "output_type": "stream",
     "text": [
      "<class 'pandas.core.frame.DataFrame'>\n",
      "Int64Index: 1929937 entries, 0 to 242075\n",
      "Data columns (total 23 columns):\n",
      " #   Column             Dtype  \n",
      "---  ------             -----  \n",
      " 0   sku                object \n",
      " 1   national_inv       float64\n",
      " 2   lead_time          float64\n",
      " 3   in_transit_qty     float64\n",
      " 4   forecast_3_month   float64\n",
      " 5   forecast_6_month   float64\n",
      " 6   forecast_9_month   float64\n",
      " 7   sales_1_month      float64\n",
      " 8   sales_3_month      float64\n",
      " 9   sales_6_month      float64\n",
      " 10  sales_9_month      float64\n",
      " 11  min_bank           float64\n",
      " 12  potential_issue    object \n",
      " 13  pieces_past_due    float64\n",
      " 14  perf_6_month_avg   float64\n",
      " 15  perf_12_month_avg  float64\n",
      " 16  local_bo_qty       float64\n",
      " 17  deck_risk          object \n",
      " 18  oe_constraint      object \n",
      " 19  ppap_risk          object \n",
      " 20  stop_auto_buy      object \n",
      " 21  rev_stop           object \n",
      " 22  went_on_backorder  object \n",
      "dtypes: float64(15), object(8)\n",
      "memory usage: 353.4+ MB\n"
     ]
    }
   ],
   "source": [
    "masterData.info()"
   ]
  },
  {
   "cell_type": "code",
   "execution_count": 5,
   "metadata": {},
   "outputs": [],
   "source": [
    "new_column_names = ['product_id', 'current_inventory', 'transit_duration', 'transit_quantity',\n",
    "                   'forecast_sales_3_months', 'forecast_sales_6_months', 'forecast_sales_9_months',\n",
    "                   'prior_sales_1_month', 'prior_sales_3_month', 'prior_sales_6_month',\n",
    "                   'prior_sales_9_month', 'minimum_recommend_stock', 'source_has_issue',\n",
    "                   'source_overdue', 'source_performance_6_months', 'source_performance_12_months',\n",
    "                   'stock_overdue', 'deck_risk', 'oe_constraint', 'ppap_risk', 'stop_auto_buy',\n",
    "                   'rev_stop', 'went_on_backorder']\n",
    "\n",
    "masterData.columns = new_column_names"
   ]
  },
  {
   "cell_type": "code",
   "execution_count": 6,
   "metadata": {},
   "outputs": [
    {
     "data": {
      "text/html": [
       "<div>\n",
       "<style scoped>\n",
       "    .dataframe tbody tr th:only-of-type {\n",
       "        vertical-align: middle;\n",
       "    }\n",
       "\n",
       "    .dataframe tbody tr th {\n",
       "        vertical-align: top;\n",
       "    }\n",
       "\n",
       "    .dataframe thead th {\n",
       "        text-align: right;\n",
       "    }\n",
       "</style>\n",
       "<table border=\"1\" class=\"dataframe\">\n",
       "  <thead>\n",
       "    <tr style=\"text-align: right;\">\n",
       "      <th></th>\n",
       "      <th>product_id</th>\n",
       "      <th>current_inventory</th>\n",
       "      <th>transit_duration</th>\n",
       "      <th>transit_quantity</th>\n",
       "      <th>forecast_sales_3_months</th>\n",
       "      <th>forecast_sales_6_months</th>\n",
       "      <th>forecast_sales_9_months</th>\n",
       "      <th>prior_sales_1_month</th>\n",
       "      <th>prior_sales_3_month</th>\n",
       "      <th>prior_sales_6_month</th>\n",
       "      <th>...</th>\n",
       "      <th>source_overdue</th>\n",
       "      <th>source_performance_6_months</th>\n",
       "      <th>source_performance_12_months</th>\n",
       "      <th>stock_overdue</th>\n",
       "      <th>deck_risk</th>\n",
       "      <th>oe_constraint</th>\n",
       "      <th>ppap_risk</th>\n",
       "      <th>stop_auto_buy</th>\n",
       "      <th>rev_stop</th>\n",
       "      <th>went_on_backorder</th>\n",
       "    </tr>\n",
       "  </thead>\n",
       "  <tbody>\n",
       "    <tr>\n",
       "      <th>0</th>\n",
       "      <td>1026827</td>\n",
       "      <td>0.0</td>\n",
       "      <td>NaN</td>\n",
       "      <td>0.0</td>\n",
       "      <td>0.0</td>\n",
       "      <td>0.0</td>\n",
       "      <td>0.0</td>\n",
       "      <td>0.0</td>\n",
       "      <td>0.0</td>\n",
       "      <td>0.0</td>\n",
       "      <td>...</td>\n",
       "      <td>0.0</td>\n",
       "      <td>-99.00</td>\n",
       "      <td>-99.00</td>\n",
       "      <td>0.0</td>\n",
       "      <td>No</td>\n",
       "      <td>No</td>\n",
       "      <td>No</td>\n",
       "      <td>Yes</td>\n",
       "      <td>No</td>\n",
       "      <td>No</td>\n",
       "    </tr>\n",
       "    <tr>\n",
       "      <th>1</th>\n",
       "      <td>1043384</td>\n",
       "      <td>2.0</td>\n",
       "      <td>9.0</td>\n",
       "      <td>0.0</td>\n",
       "      <td>0.0</td>\n",
       "      <td>0.0</td>\n",
       "      <td>0.0</td>\n",
       "      <td>0.0</td>\n",
       "      <td>0.0</td>\n",
       "      <td>0.0</td>\n",
       "      <td>...</td>\n",
       "      <td>0.0</td>\n",
       "      <td>0.99</td>\n",
       "      <td>0.99</td>\n",
       "      <td>0.0</td>\n",
       "      <td>No</td>\n",
       "      <td>No</td>\n",
       "      <td>No</td>\n",
       "      <td>Yes</td>\n",
       "      <td>No</td>\n",
       "      <td>No</td>\n",
       "    </tr>\n",
       "    <tr>\n",
       "      <th>2</th>\n",
       "      <td>1043696</td>\n",
       "      <td>2.0</td>\n",
       "      <td>NaN</td>\n",
       "      <td>0.0</td>\n",
       "      <td>0.0</td>\n",
       "      <td>0.0</td>\n",
       "      <td>0.0</td>\n",
       "      <td>0.0</td>\n",
       "      <td>0.0</td>\n",
       "      <td>0.0</td>\n",
       "      <td>...</td>\n",
       "      <td>0.0</td>\n",
       "      <td>-99.00</td>\n",
       "      <td>-99.00</td>\n",
       "      <td>0.0</td>\n",
       "      <td>Yes</td>\n",
       "      <td>No</td>\n",
       "      <td>No</td>\n",
       "      <td>Yes</td>\n",
       "      <td>No</td>\n",
       "      <td>No</td>\n",
       "    </tr>\n",
       "    <tr>\n",
       "      <th>3</th>\n",
       "      <td>1043852</td>\n",
       "      <td>7.0</td>\n",
       "      <td>8.0</td>\n",
       "      <td>0.0</td>\n",
       "      <td>0.0</td>\n",
       "      <td>0.0</td>\n",
       "      <td>0.0</td>\n",
       "      <td>0.0</td>\n",
       "      <td>0.0</td>\n",
       "      <td>0.0</td>\n",
       "      <td>...</td>\n",
       "      <td>0.0</td>\n",
       "      <td>0.10</td>\n",
       "      <td>0.13</td>\n",
       "      <td>0.0</td>\n",
       "      <td>No</td>\n",
       "      <td>No</td>\n",
       "      <td>No</td>\n",
       "      <td>Yes</td>\n",
       "      <td>No</td>\n",
       "      <td>No</td>\n",
       "    </tr>\n",
       "    <tr>\n",
       "      <th>4</th>\n",
       "      <td>1044048</td>\n",
       "      <td>8.0</td>\n",
       "      <td>NaN</td>\n",
       "      <td>0.0</td>\n",
       "      <td>0.0</td>\n",
       "      <td>0.0</td>\n",
       "      <td>0.0</td>\n",
       "      <td>0.0</td>\n",
       "      <td>0.0</td>\n",
       "      <td>0.0</td>\n",
       "      <td>...</td>\n",
       "      <td>0.0</td>\n",
       "      <td>-99.00</td>\n",
       "      <td>-99.00</td>\n",
       "      <td>0.0</td>\n",
       "      <td>Yes</td>\n",
       "      <td>No</td>\n",
       "      <td>No</td>\n",
       "      <td>Yes</td>\n",
       "      <td>No</td>\n",
       "      <td>No</td>\n",
       "    </tr>\n",
       "  </tbody>\n",
       "</table>\n",
       "<p>5 rows × 23 columns</p>\n",
       "</div>"
      ],
      "text/plain": [
       "  product_id  current_inventory  transit_duration  transit_quantity  \\\n",
       "0    1026827                0.0               NaN               0.0   \n",
       "1    1043384                2.0               9.0               0.0   \n",
       "2    1043696                2.0               NaN               0.0   \n",
       "3    1043852                7.0               8.0               0.0   \n",
       "4    1044048                8.0               NaN               0.0   \n",
       "\n",
       "   forecast_sales_3_months  forecast_sales_6_months  forecast_sales_9_months  \\\n",
       "0                      0.0                      0.0                      0.0   \n",
       "1                      0.0                      0.0                      0.0   \n",
       "2                      0.0                      0.0                      0.0   \n",
       "3                      0.0                      0.0                      0.0   \n",
       "4                      0.0                      0.0                      0.0   \n",
       "\n",
       "   prior_sales_1_month  prior_sales_3_month  prior_sales_6_month  ...  \\\n",
       "0                  0.0                  0.0                  0.0  ...   \n",
       "1                  0.0                  0.0                  0.0  ...   \n",
       "2                  0.0                  0.0                  0.0  ...   \n",
       "3                  0.0                  0.0                  0.0  ...   \n",
       "4                  0.0                  0.0                  0.0  ...   \n",
       "\n",
       "   source_overdue  source_performance_6_months source_performance_12_months  \\\n",
       "0             0.0                       -99.00                       -99.00   \n",
       "1             0.0                         0.99                         0.99   \n",
       "2             0.0                       -99.00                       -99.00   \n",
       "3             0.0                         0.10                         0.13   \n",
       "4             0.0                       -99.00                       -99.00   \n",
       "\n",
       "   stock_overdue  deck_risk  oe_constraint  ppap_risk stop_auto_buy rev_stop  \\\n",
       "0            0.0         No             No         No           Yes       No   \n",
       "1            0.0         No             No         No           Yes       No   \n",
       "2            0.0        Yes             No         No           Yes       No   \n",
       "3            0.0         No             No         No           Yes       No   \n",
       "4            0.0        Yes             No         No           Yes       No   \n",
       "\n",
       "  went_on_backorder  \n",
       "0                No  \n",
       "1                No  \n",
       "2                No  \n",
       "3                No  \n",
       "4                No  \n",
       "\n",
       "[5 rows x 23 columns]"
      ]
     },
     "execution_count": 6,
     "metadata": {},
     "output_type": "execute_result"
    }
   ],
   "source": [
    "masterData.head()"
   ]
  },
  {
   "cell_type": "code",
   "execution_count": 7,
   "metadata": {},
   "outputs": [
    {
     "data": {
      "text/html": [
       "<div>\n",
       "<style scoped>\n",
       "    .dataframe tbody tr th:only-of-type {\n",
       "        vertical-align: middle;\n",
       "    }\n",
       "\n",
       "    .dataframe tbody tr th {\n",
       "        vertical-align: top;\n",
       "    }\n",
       "\n",
       "    .dataframe thead th {\n",
       "        text-align: right;\n",
       "    }\n",
       "</style>\n",
       "<table border=\"1\" class=\"dataframe\">\n",
       "  <thead>\n",
       "    <tr style=\"text-align: right;\">\n",
       "      <th></th>\n",
       "      <th>current_inventory</th>\n",
       "      <th>transit_duration</th>\n",
       "      <th>transit_quantity</th>\n",
       "      <th>forecast_sales_3_months</th>\n",
       "      <th>forecast_sales_6_months</th>\n",
       "      <th>forecast_sales_9_months</th>\n",
       "      <th>prior_sales_1_month</th>\n",
       "      <th>prior_sales_3_month</th>\n",
       "      <th>prior_sales_6_month</th>\n",
       "      <th>prior_sales_9_month</th>\n",
       "      <th>minimum_recommend_stock</th>\n",
       "      <th>source_overdue</th>\n",
       "      <th>source_performance_6_months</th>\n",
       "      <th>source_performance_12_months</th>\n",
       "      <th>stock_overdue</th>\n",
       "    </tr>\n",
       "  </thead>\n",
       "  <tbody>\n",
       "    <tr>\n",
       "      <th>count</th>\n",
       "      <td>1.929935e+06</td>\n",
       "      <td>1.814318e+06</td>\n",
       "      <td>1.929935e+06</td>\n",
       "      <td>1.929935e+06</td>\n",
       "      <td>1.929935e+06</td>\n",
       "      <td>1.929935e+06</td>\n",
       "      <td>1.929935e+06</td>\n",
       "      <td>1.929935e+06</td>\n",
       "      <td>1.929935e+06</td>\n",
       "      <td>1.929935e+06</td>\n",
       "      <td>1.929935e+06</td>\n",
       "      <td>1.929935e+06</td>\n",
       "      <td>1.929935e+06</td>\n",
       "      <td>1.929935e+06</td>\n",
       "      <td>1.929935e+06</td>\n",
       "    </tr>\n",
       "    <tr>\n",
       "      <th>mean</th>\n",
       "      <td>4.965683e+02</td>\n",
       "      <td>7.878627e+00</td>\n",
       "      <td>4.306440e+01</td>\n",
       "      <td>1.785399e+02</td>\n",
       "      <td>3.454659e+02</td>\n",
       "      <td>5.066067e+02</td>\n",
       "      <td>5.536816e+01</td>\n",
       "      <td>1.746639e+02</td>\n",
       "      <td>3.415653e+02</td>\n",
       "      <td>5.235771e+02</td>\n",
       "      <td>5.277637e+01</td>\n",
       "      <td>2.016193e+00</td>\n",
       "      <td>-6.899870e+00</td>\n",
       "      <td>-6.462343e+00</td>\n",
       "      <td>6.537039e-01</td>\n",
       "    </tr>\n",
       "    <tr>\n",
       "      <th>std</th>\n",
       "      <td>2.957343e+04</td>\n",
       "      <td>7.054212e+00</td>\n",
       "      <td>1.295420e+03</td>\n",
       "      <td>5.108770e+03</td>\n",
       "      <td>9.831562e+03</td>\n",
       "      <td>1.434543e+04</td>\n",
       "      <td>1.884377e+03</td>\n",
       "      <td>5.188856e+03</td>\n",
       "      <td>9.585030e+03</td>\n",
       "      <td>1.473327e+04</td>\n",
       "      <td>1.257968e+03</td>\n",
       "      <td>2.296112e+02</td>\n",
       "      <td>2.659988e+01</td>\n",
       "      <td>2.588343e+01</td>\n",
       "      <td>3.543230e+01</td>\n",
       "    </tr>\n",
       "    <tr>\n",
       "      <th>min</th>\n",
       "      <td>-2.725600e+04</td>\n",
       "      <td>0.000000e+00</td>\n",
       "      <td>0.000000e+00</td>\n",
       "      <td>0.000000e+00</td>\n",
       "      <td>0.000000e+00</td>\n",
       "      <td>0.000000e+00</td>\n",
       "      <td>0.000000e+00</td>\n",
       "      <td>0.000000e+00</td>\n",
       "      <td>0.000000e+00</td>\n",
       "      <td>0.000000e+00</td>\n",
       "      <td>0.000000e+00</td>\n",
       "      <td>0.000000e+00</td>\n",
       "      <td>-9.900000e+01</td>\n",
       "      <td>-9.900000e+01</td>\n",
       "      <td>0.000000e+00</td>\n",
       "    </tr>\n",
       "    <tr>\n",
       "      <th>25%</th>\n",
       "      <td>4.000000e+00</td>\n",
       "      <td>4.000000e+00</td>\n",
       "      <td>0.000000e+00</td>\n",
       "      <td>0.000000e+00</td>\n",
       "      <td>0.000000e+00</td>\n",
       "      <td>0.000000e+00</td>\n",
       "      <td>0.000000e+00</td>\n",
       "      <td>0.000000e+00</td>\n",
       "      <td>0.000000e+00</td>\n",
       "      <td>0.000000e+00</td>\n",
       "      <td>0.000000e+00</td>\n",
       "      <td>0.000000e+00</td>\n",
       "      <td>6.300000e-01</td>\n",
       "      <td>6.600000e-01</td>\n",
       "      <td>0.000000e+00</td>\n",
       "    </tr>\n",
       "    <tr>\n",
       "      <th>50%</th>\n",
       "      <td>1.500000e+01</td>\n",
       "      <td>8.000000e+00</td>\n",
       "      <td>0.000000e+00</td>\n",
       "      <td>0.000000e+00</td>\n",
       "      <td>0.000000e+00</td>\n",
       "      <td>0.000000e+00</td>\n",
       "      <td>0.000000e+00</td>\n",
       "      <td>1.000000e+00</td>\n",
       "      <td>2.000000e+00</td>\n",
       "      <td>4.000000e+00</td>\n",
       "      <td>0.000000e+00</td>\n",
       "      <td>0.000000e+00</td>\n",
       "      <td>8.200000e-01</td>\n",
       "      <td>8.100000e-01</td>\n",
       "      <td>0.000000e+00</td>\n",
       "    </tr>\n",
       "    <tr>\n",
       "      <th>75%</th>\n",
       "      <td>8.000000e+01</td>\n",
       "      <td>9.000000e+00</td>\n",
       "      <td>0.000000e+00</td>\n",
       "      <td>4.000000e+00</td>\n",
       "      <td>1.200000e+01</td>\n",
       "      <td>2.000000e+01</td>\n",
       "      <td>4.000000e+00</td>\n",
       "      <td>1.500000e+01</td>\n",
       "      <td>3.100000e+01</td>\n",
       "      <td>4.700000e+01</td>\n",
       "      <td>3.000000e+00</td>\n",
       "      <td>0.000000e+00</td>\n",
       "      <td>9.600000e-01</td>\n",
       "      <td>9.500000e-01</td>\n",
       "      <td>0.000000e+00</td>\n",
       "    </tr>\n",
       "    <tr>\n",
       "      <th>max</th>\n",
       "      <td>1.233440e+07</td>\n",
       "      <td>5.200000e+01</td>\n",
       "      <td>4.894080e+05</td>\n",
       "      <td>1.510592e+06</td>\n",
       "      <td>2.461360e+06</td>\n",
       "      <td>3.777304e+06</td>\n",
       "      <td>7.417740e+05</td>\n",
       "      <td>1.105478e+06</td>\n",
       "      <td>2.146625e+06</td>\n",
       "      <td>3.205172e+06</td>\n",
       "      <td>3.133190e+05</td>\n",
       "      <td>1.464960e+05</td>\n",
       "      <td>1.000000e+00</td>\n",
       "      <td>1.000000e+00</td>\n",
       "      <td>1.253000e+04</td>\n",
       "    </tr>\n",
       "  </tbody>\n",
       "</table>\n",
       "</div>"
      ],
      "text/plain": [
       "       current_inventory  transit_duration  transit_quantity  \\\n",
       "count       1.929935e+06      1.814318e+06      1.929935e+06   \n",
       "mean        4.965683e+02      7.878627e+00      4.306440e+01   \n",
       "std         2.957343e+04      7.054212e+00      1.295420e+03   \n",
       "min        -2.725600e+04      0.000000e+00      0.000000e+00   \n",
       "25%         4.000000e+00      4.000000e+00      0.000000e+00   \n",
       "50%         1.500000e+01      8.000000e+00      0.000000e+00   \n",
       "75%         8.000000e+01      9.000000e+00      0.000000e+00   \n",
       "max         1.233440e+07      5.200000e+01      4.894080e+05   \n",
       "\n",
       "       forecast_sales_3_months  forecast_sales_6_months  \\\n",
       "count             1.929935e+06             1.929935e+06   \n",
       "mean              1.785399e+02             3.454659e+02   \n",
       "std               5.108770e+03             9.831562e+03   \n",
       "min               0.000000e+00             0.000000e+00   \n",
       "25%               0.000000e+00             0.000000e+00   \n",
       "50%               0.000000e+00             0.000000e+00   \n",
       "75%               4.000000e+00             1.200000e+01   \n",
       "max               1.510592e+06             2.461360e+06   \n",
       "\n",
       "       forecast_sales_9_months  prior_sales_1_month  prior_sales_3_month  \\\n",
       "count             1.929935e+06         1.929935e+06         1.929935e+06   \n",
       "mean              5.066067e+02         5.536816e+01         1.746639e+02   \n",
       "std               1.434543e+04         1.884377e+03         5.188856e+03   \n",
       "min               0.000000e+00         0.000000e+00         0.000000e+00   \n",
       "25%               0.000000e+00         0.000000e+00         0.000000e+00   \n",
       "50%               0.000000e+00         0.000000e+00         1.000000e+00   \n",
       "75%               2.000000e+01         4.000000e+00         1.500000e+01   \n",
       "max               3.777304e+06         7.417740e+05         1.105478e+06   \n",
       "\n",
       "       prior_sales_6_month  prior_sales_9_month  minimum_recommend_stock  \\\n",
       "count         1.929935e+06         1.929935e+06             1.929935e+06   \n",
       "mean          3.415653e+02         5.235771e+02             5.277637e+01   \n",
       "std           9.585030e+03         1.473327e+04             1.257968e+03   \n",
       "min           0.000000e+00         0.000000e+00             0.000000e+00   \n",
       "25%           0.000000e+00         0.000000e+00             0.000000e+00   \n",
       "50%           2.000000e+00         4.000000e+00             0.000000e+00   \n",
       "75%           3.100000e+01         4.700000e+01             3.000000e+00   \n",
       "max           2.146625e+06         3.205172e+06             3.133190e+05   \n",
       "\n",
       "       source_overdue  source_performance_6_months  \\\n",
       "count    1.929935e+06                 1.929935e+06   \n",
       "mean     2.016193e+00                -6.899870e+00   \n",
       "std      2.296112e+02                 2.659988e+01   \n",
       "min      0.000000e+00                -9.900000e+01   \n",
       "25%      0.000000e+00                 6.300000e-01   \n",
       "50%      0.000000e+00                 8.200000e-01   \n",
       "75%      0.000000e+00                 9.600000e-01   \n",
       "max      1.464960e+05                 1.000000e+00   \n",
       "\n",
       "       source_performance_12_months  stock_overdue  \n",
       "count                  1.929935e+06   1.929935e+06  \n",
       "mean                  -6.462343e+00   6.537039e-01  \n",
       "std                    2.588343e+01   3.543230e+01  \n",
       "min                   -9.900000e+01   0.000000e+00  \n",
       "25%                    6.600000e-01   0.000000e+00  \n",
       "50%                    8.100000e-01   0.000000e+00  \n",
       "75%                    9.500000e-01   0.000000e+00  \n",
       "max                    1.000000e+00   1.253000e+04  "
      ]
     },
     "execution_count": 7,
     "metadata": {},
     "output_type": "execute_result"
    }
   ],
   "source": [
    "masterData.describe()"
   ]
  },
  {
   "cell_type": "code",
   "execution_count": 8,
   "metadata": {},
   "outputs": [
    {
     "data": {
      "text/html": [
       "<div>\n",
       "<style scoped>\n",
       "    .dataframe tbody tr th:only-of-type {\n",
       "        vertical-align: middle;\n",
       "    }\n",
       "\n",
       "    .dataframe tbody tr th {\n",
       "        vertical-align: top;\n",
       "    }\n",
       "\n",
       "    .dataframe thead th {\n",
       "        text-align: right;\n",
       "    }\n",
       "</style>\n",
       "<table border=\"1\" class=\"dataframe\">\n",
       "  <thead>\n",
       "    <tr style=\"text-align: right;\">\n",
       "      <th></th>\n",
       "      <th>product_id</th>\n",
       "      <th>source_has_issue</th>\n",
       "      <th>deck_risk</th>\n",
       "      <th>oe_constraint</th>\n",
       "      <th>ppap_risk</th>\n",
       "      <th>stop_auto_buy</th>\n",
       "      <th>rev_stop</th>\n",
       "      <th>went_on_backorder</th>\n",
       "    </tr>\n",
       "  </thead>\n",
       "  <tbody>\n",
       "    <tr>\n",
       "      <th>count</th>\n",
       "      <td>1929937</td>\n",
       "      <td>1929935</td>\n",
       "      <td>1929935</td>\n",
       "      <td>1929935</td>\n",
       "      <td>1929935</td>\n",
       "      <td>1929935</td>\n",
       "      <td>1929935</td>\n",
       "      <td>1929935</td>\n",
       "    </tr>\n",
       "    <tr>\n",
       "      <th>unique</th>\n",
       "      <td>1929937</td>\n",
       "      <td>2</td>\n",
       "      <td>2</td>\n",
       "      <td>2</td>\n",
       "      <td>2</td>\n",
       "      <td>2</td>\n",
       "      <td>2</td>\n",
       "      <td>2</td>\n",
       "    </tr>\n",
       "    <tr>\n",
       "      <th>top</th>\n",
       "      <td>3273673</td>\n",
       "      <td>No</td>\n",
       "      <td>No</td>\n",
       "      <td>No</td>\n",
       "      <td>No</td>\n",
       "      <td>Yes</td>\n",
       "      <td>No</td>\n",
       "      <td>No</td>\n",
       "    </tr>\n",
       "    <tr>\n",
       "      <th>freq</th>\n",
       "      <td>1</td>\n",
       "      <td>1928946</td>\n",
       "      <td>1494482</td>\n",
       "      <td>1929643</td>\n",
       "      <td>1697383</td>\n",
       "      <td>1859391</td>\n",
       "      <td>1929096</td>\n",
       "      <td>1915954</td>\n",
       "    </tr>\n",
       "  </tbody>\n",
       "</table>\n",
       "</div>"
      ],
      "text/plain": [
       "       product_id source_has_issue deck_risk oe_constraint ppap_risk  \\\n",
       "count     1929937          1929935   1929935       1929935   1929935   \n",
       "unique    1929937                2         2             2         2   \n",
       "top       3273673               No        No            No        No   \n",
       "freq            1          1928946   1494482       1929643   1697383   \n",
       "\n",
       "       stop_auto_buy rev_stop went_on_backorder  \n",
       "count        1929935  1929935           1929935  \n",
       "unique             2        2                 2  \n",
       "top              Yes       No                No  \n",
       "freq         1859391  1929096           1915954  "
      ]
     },
     "execution_count": 8,
     "metadata": {},
     "output_type": "execute_result"
    }
   ],
   "source": [
    "masterData.describe(include = ['object'])"
   ]
  },
  {
   "cell_type": "code",
   "execution_count": 9,
   "metadata": {},
   "outputs": [
    {
     "data": {
      "text/plain": [
       "product_id                           0\n",
       "current_inventory                    2\n",
       "transit_duration                115619\n",
       "transit_quantity                     2\n",
       "forecast_sales_3_months              2\n",
       "forecast_sales_6_months              2\n",
       "forecast_sales_9_months              2\n",
       "prior_sales_1_month                  2\n",
       "prior_sales_3_month                  2\n",
       "prior_sales_6_month                  2\n",
       "prior_sales_9_month                  2\n",
       "minimum_recommend_stock              2\n",
       "source_has_issue                     2\n",
       "source_overdue                       2\n",
       "source_performance_6_months          2\n",
       "source_performance_12_months         2\n",
       "stock_overdue                        2\n",
       "deck_risk                            2\n",
       "oe_constraint                        2\n",
       "ppap_risk                            2\n",
       "stop_auto_buy                        2\n",
       "rev_stop                             2\n",
       "went_on_backorder                    2\n",
       "dtype: int64"
      ]
     },
     "execution_count": 9,
     "metadata": {},
     "output_type": "execute_result"
    }
   ],
   "source": [
    "masterData.isnull().sum()"
   ]
  },
  {
   "cell_type": "markdown",
   "metadata": {},
   "source": [
    "Most of the columns have just a two entries as null. Quite possible that all these NaN belong to same row which might \n",
    "be header or footer.If we will remove this row it will also solve the mix datatypes issue which we saw during data load.\n",
    "\n",
    "There are nulls and lots of 0's in each column. During the EDA/Feature engineering step we can determine if we want to omit\n",
    "or keep this column. But for now we will look for an approach to fill these missing values"
   ]
  },
  {
   "cell_type": "code",
   "execution_count": 10,
   "metadata": {},
   "outputs": [
    {
     "data": {
      "text/html": [
       "<div>\n",
       "<style scoped>\n",
       "    .dataframe tbody tr th:only-of-type {\n",
       "        vertical-align: middle;\n",
       "    }\n",
       "\n",
       "    .dataframe tbody tr th {\n",
       "        vertical-align: top;\n",
       "    }\n",
       "\n",
       "    .dataframe thead th {\n",
       "        text-align: right;\n",
       "    }\n",
       "</style>\n",
       "<table border=\"1\" class=\"dataframe\">\n",
       "  <thead>\n",
       "    <tr style=\"text-align: right;\">\n",
       "      <th></th>\n",
       "      <th>product_id</th>\n",
       "      <th>current_inventory</th>\n",
       "      <th>transit_duration</th>\n",
       "      <th>transit_quantity</th>\n",
       "      <th>forecast_sales_3_months</th>\n",
       "      <th>forecast_sales_6_months</th>\n",
       "      <th>forecast_sales_9_months</th>\n",
       "      <th>prior_sales_1_month</th>\n",
       "      <th>prior_sales_3_month</th>\n",
       "      <th>prior_sales_6_month</th>\n",
       "      <th>...</th>\n",
       "      <th>source_overdue</th>\n",
       "      <th>source_performance_6_months</th>\n",
       "      <th>source_performance_12_months</th>\n",
       "      <th>stock_overdue</th>\n",
       "      <th>deck_risk</th>\n",
       "      <th>oe_constraint</th>\n",
       "      <th>ppap_risk</th>\n",
       "      <th>stop_auto_buy</th>\n",
       "      <th>rev_stop</th>\n",
       "      <th>went_on_backorder</th>\n",
       "    </tr>\n",
       "  </thead>\n",
       "  <tbody>\n",
       "    <tr>\n",
       "      <th>1687860</th>\n",
       "      <td>(1687860 rows)</td>\n",
       "      <td>NaN</td>\n",
       "      <td>NaN</td>\n",
       "      <td>NaN</td>\n",
       "      <td>NaN</td>\n",
       "      <td>NaN</td>\n",
       "      <td>NaN</td>\n",
       "      <td>NaN</td>\n",
       "      <td>NaN</td>\n",
       "      <td>NaN</td>\n",
       "      <td>...</td>\n",
       "      <td>NaN</td>\n",
       "      <td>NaN</td>\n",
       "      <td>NaN</td>\n",
       "      <td>NaN</td>\n",
       "      <td>NaN</td>\n",
       "      <td>NaN</td>\n",
       "      <td>NaN</td>\n",
       "      <td>NaN</td>\n",
       "      <td>NaN</td>\n",
       "      <td>NaN</td>\n",
       "    </tr>\n",
       "    <tr>\n",
       "      <th>242075</th>\n",
       "      <td>(242075 rows)</td>\n",
       "      <td>NaN</td>\n",
       "      <td>NaN</td>\n",
       "      <td>NaN</td>\n",
       "      <td>NaN</td>\n",
       "      <td>NaN</td>\n",
       "      <td>NaN</td>\n",
       "      <td>NaN</td>\n",
       "      <td>NaN</td>\n",
       "      <td>NaN</td>\n",
       "      <td>...</td>\n",
       "      <td>NaN</td>\n",
       "      <td>NaN</td>\n",
       "      <td>NaN</td>\n",
       "      <td>NaN</td>\n",
       "      <td>NaN</td>\n",
       "      <td>NaN</td>\n",
       "      <td>NaN</td>\n",
       "      <td>NaN</td>\n",
       "      <td>NaN</td>\n",
       "      <td>NaN</td>\n",
       "    </tr>\n",
       "  </tbody>\n",
       "</table>\n",
       "<p>2 rows × 23 columns</p>\n",
       "</div>"
      ],
      "text/plain": [
       "             product_id  current_inventory  transit_duration  \\\n",
       "1687860  (1687860 rows)                NaN               NaN   \n",
       "242075    (242075 rows)                NaN               NaN   \n",
       "\n",
       "         transit_quantity  forecast_sales_3_months  forecast_sales_6_months  \\\n",
       "1687860               NaN                      NaN                      NaN   \n",
       "242075                NaN                      NaN                      NaN   \n",
       "\n",
       "         forecast_sales_9_months  prior_sales_1_month  prior_sales_3_month  \\\n",
       "1687860                      NaN                  NaN                  NaN   \n",
       "242075                       NaN                  NaN                  NaN   \n",
       "\n",
       "         prior_sales_6_month  ...  source_overdue  \\\n",
       "1687860                  NaN  ...             NaN   \n",
       "242075                   NaN  ...             NaN   \n",
       "\n",
       "         source_performance_6_months source_performance_12_months  \\\n",
       "1687860                          NaN                          NaN   \n",
       "242075                           NaN                          NaN   \n",
       "\n",
       "         stock_overdue  deck_risk  oe_constraint  ppap_risk stop_auto_buy  \\\n",
       "1687860            NaN        NaN            NaN        NaN           NaN   \n",
       "242075             NaN        NaN            NaN        NaN           NaN   \n",
       "\n",
       "        rev_stop went_on_backorder  \n",
       "1687860      NaN               NaN  \n",
       "242075       NaN               NaN  \n",
       "\n",
       "[2 rows x 23 columns]"
      ]
     },
     "execution_count": 10,
     "metadata": {},
     "output_type": "execute_result"
    }
   ],
   "source": [
    "masterData[masterData.current_inventory.isnull()]"
   ]
  },
  {
   "cell_type": "code",
   "execution_count": 11,
   "metadata": {},
   "outputs": [],
   "source": [
    "masterData.drop([1687860, 242075], inplace = True)"
   ]
  },
  {
   "cell_type": "code",
   "execution_count": 12,
   "metadata": {},
   "outputs": [
    {
     "data": {
      "text/plain": [
       "product_id                           0\n",
       "current_inventory                    0\n",
       "transit_duration                115616\n",
       "transit_quantity                     0\n",
       "forecast_sales_3_months              0\n",
       "forecast_sales_6_months              0\n",
       "forecast_sales_9_months              0\n",
       "prior_sales_1_month                  0\n",
       "prior_sales_3_month                  0\n",
       "prior_sales_6_month                  0\n",
       "prior_sales_9_month                  0\n",
       "minimum_recommend_stock              0\n",
       "source_has_issue                     0\n",
       "source_overdue                       0\n",
       "source_performance_6_months          0\n",
       "source_performance_12_months         0\n",
       "stock_overdue                        0\n",
       "deck_risk                            0\n",
       "oe_constraint                        0\n",
       "ppap_risk                            0\n",
       "stop_auto_buy                        0\n",
       "rev_stop                             0\n",
       "went_on_backorder                    0\n",
       "dtype: int64"
      ]
     },
     "execution_count": 12,
     "metadata": {},
     "output_type": "execute_result"
    }
   ],
   "source": [
    "masterData.isnull().sum()"
   ]
  },
  {
   "cell_type": "code",
   "execution_count": 13,
   "metadata": {},
   "outputs": [],
   "source": [
    "masterData.product_id = masterData.product_id.astype(int)"
   ]
  },
  {
   "cell_type": "markdown",
   "metadata": {},
   "source": [
    "# Handling NAN and Missing Values"
   ]
  },
  {
   "cell_type": "markdown",
   "metadata": {},
   "source": [
    "The following are the observations made in the dataset:\n",
    "\n",
    "    1. Transit duration has 115616 null values.\n",
    "    \n",
    "    2. Missing values in columns source_performance_6_months and source_performance_12_months are represented with '-99'. \n",
    "    \n",
    "    3. source_performance_6_months has 1299478 missing values, source_performance_12_months has 122050 missing values.\n",
    "    \n",
    "    4. Heatmap shows that there is a strong coorelation between source_performance_6_months and source_performance_12_months.\n"
   ]
  },
  {
   "cell_type": "code",
   "execution_count": 14,
   "metadata": {},
   "outputs": [
    {
     "data": {
      "image/png": "[encoded data removed]",
      "text/plain": [
       "<Figure size 1080x1080 with 2 Axes>"
      ]
     },
     "metadata": {
      "needs_background": "light"
     },
     "output_type": "display_data"
    }
   ],
   "source": [
    "#finding the correlations\n",
    "fig, ax = plt.subplots(figsize=(15, 15))\n",
    "col_corr = masterData.corr()\n",
    "sns.heatmap(col_corr, annot = True)\n",
    "plt.show('Heatmap of Correlation Matrix')"
   ]
  },
  {
   "cell_type": "code",
   "execution_count": 15,
   "metadata": {},
   "outputs": [
    {
     "name": "stderr",
     "output_type": "stream",
     "text": [
      "C:\\Users\\VigneshwarPesaru\\anaconda3\\lib\\site-packages\\seaborn\\_decorators.py:36: FutureWarning: Pass the following variable as a keyword arg: x. From version 0.12, the only valid positional argument will be `data`, and passing other arguments without an explicit keyword will result in an error or misinterpretation.\n",
      "  warnings.warn(\n"
     ]
    },
    {
     "data": {
      "text/plain": [
       "[Text(0.5, 1.0, 'Transit Duration Range and Distribution')]"
      ]
     },
     "execution_count": 15,
     "metadata": {},
     "output_type": "execute_result"
    },
    {
     "data": {
      "image/png": "[encoded data removed]",
      "text/plain": [
       "<Figure size 432x288 with 1 Axes>"
      ]
     },
     "metadata": {
      "needs_background": "light"
     },
     "output_type": "display_data"
    }
   ],
   "source": [
    "#View the range and distribution through the violinplots\n",
    "sns.violinplot(masterData.transit_duration).set(title='Transit Duration Range and Distribution')\n",
    "#sns.plt.title('Transit Duration Range and Distribution')"
   ]
  },
  {
   "cell_type": "code",
   "execution_count": 16,
   "metadata": {},
   "outputs": [],
   "source": [
    "#Fill the null values with median\n",
    "masterData['transit_duration'] = masterData['transit_duration'].fillna(masterData['transit_duration'].median())"
   ]
  },
  {
   "cell_type": "code",
   "execution_count": 17,
   "metadata": {},
   "outputs": [
    {
     "data": {
      "text/plain": [
       "0"
      ]
     },
     "execution_count": 17,
     "metadata": {},
     "output_type": "execute_result"
    }
   ],
   "source": [
    "masterData['transit_duration'].isnull().sum()"
   ]
  },
  {
   "cell_type": "code",
   "execution_count": 18,
   "metadata": {},
   "outputs": [
    {
     "data": {
      "text/plain": [
       "8.0     896335\n",
       "2.0     384319\n",
       "12.0    228997\n",
       "4.0     147045\n",
       "9.0     141423\n",
       "52.0     34418\n",
       "3.0      18602\n",
       "10.0     16248\n",
       "0.0      12026\n",
       "14.0     11820\n",
       "16.0     10132\n",
       "13.0      6160\n",
       "6.0       5826\n",
       "5.0       4609\n",
       "15.0      4355\n",
       "17.0      4300\n",
       "11.0      1246\n",
       "20.0       477\n",
       "30.0       356\n",
       "18.0       253\n",
       "7.0        239\n",
       "22.0       152\n",
       "24.0       148\n",
       "26.0       120\n",
       "28.0        96\n",
       "21.0        56\n",
       "40.0        56\n",
       "35.0        40\n",
       "19.0        32\n",
       "1.0         24\n",
       "23.0        16\n",
       "25.0         8\n",
       "Name: transit_duration, dtype: int64"
      ]
     },
     "execution_count": 18,
     "metadata": {},
     "output_type": "execute_result"
    }
   ],
   "source": [
    "masterData['transit_duration'].value_counts()"
   ]
  },
  {
   "cell_type": "code",
   "execution_count": 19,
   "metadata": {},
   "outputs": [
    {
     "data": {
      "text/plain": [
       "0"
      ]
     },
     "execution_count": 19,
     "metadata": {},
     "output_type": "execute_result"
    }
   ],
   "source": [
    "#checking for the duplicates in the product_id field\n",
    "masterData['product_id'].duplicated().sum()"
   ]
  },
  {
   "cell_type": "markdown",
   "metadata": {},
   "source": [
    "Given that we do have cells with -99 in the sourec_performance_12_months and source_performance_6_months of  masterData, \n",
    "we need to comeup with a feature engineering technique appropriately to replace these values with most desirable one's. \n",
    "Heat map strongly indicates that there is strong relationship correlationship between these two. Hence, we can use the linear\n",
    "regression to estimate the missing values. However, there are quiet a lot missing values, it is strongly encouraged to\n",
    "replace the missing values with the alternate approach. In this case, we are trying to replace the missing values with the\n",
    "median of their respective fields"
   ]
  },
  {
   "cell_type": "code",
   "execution_count": 20,
   "metadata": {},
   "outputs": [],
   "source": [
    "#Replace -99 with NAN in the source_performance_12_months and source_performance_6_months of masterData set\n",
    "masterData['source_performance_12_months'].replace({-99.00:np.nan}, inplace = True)\n",
    "masterData['source_performance_6_months'].replace({-99.00:np.nan}, inplace = True)"
   ]
  },
  {
   "cell_type": "code",
   "execution_count": 21,
   "metadata": {},
   "outputs": [
    {
     "data": {
      "text/plain": [
       "0"
      ]
     },
     "execution_count": 21,
     "metadata": {},
     "output_type": "execute_result"
    }
   ],
   "source": [
    "(masterData['source_performance_12_months']==-99.00).sum()"
   ]
  },
  {
   "cell_type": "code",
   "execution_count": 22,
   "metadata": {},
   "outputs": [
    {
     "data": {
      "text/plain": [
       "0"
      ]
     },
     "execution_count": 22,
     "metadata": {},
     "output_type": "execute_result"
    }
   ],
   "source": [
    "(masterData['source_performance_6_months']==-99.00).sum()"
   ]
  },
  {
   "cell_type": "code",
   "execution_count": 23,
   "metadata": {},
   "outputs": [],
   "source": [
    "#Linear regression for fillin the NAN's \n",
    "x_12months = masterData[masterData.source_performance_6_months.notnull() \n",
    "                        & masterData.source_performance_12_months.notnull()][['source_performance_12_months']]\n",
    "y_6months = masterData[masterData.source_performance_6_months.notnull() \n",
    "                       & masterData.source_performance_12_months.notnull()][['source_performance_6_months']]"
   ]
  },
  {
   "cell_type": "code",
   "execution_count": 24,
   "metadata": {},
   "outputs": [
    {
     "data": {
      "text/plain": [
       "LinearRegression()"
      ]
     },
     "execution_count": 24,
     "metadata": {},
     "output_type": "execute_result"
    }
   ],
   "source": [
    "\n",
    "linReg = LinearRegression()\n",
    "linReg.fit(x_12months,y_6months)"
   ]
  },
  {
   "cell_type": "code",
   "execution_count": 25,
   "metadata": {},
   "outputs": [],
   "source": [
    "#Predicted NAN values\n",
    "test_12months = masterData[masterData['source_performance_6_months'].isnull() \n",
    "                           & masterData['source_performance_12_months'].notnull()][['source_performance_12_months']]\n",
    "pred_6months = linReg.predict(test_12months)\n"
   ]
  },
  {
   "cell_type": "code",
   "execution_count": 26,
   "metadata": {},
   "outputs": [],
   "source": [
    "#Fill the null values\n",
    "reg_6_months_list = list(zip(test_12months.index, pred_6months)) "
   ]
  },
  {
   "cell_type": "code",
   "execution_count": 27,
   "metadata": {},
   "outputs": [],
   "source": [
    "for val in reg_6_months_list:\n",
    "      #print(val[0], val[1])\n",
    "      #masterData.set_value(index=val[0], value =val[1], col='source_performance_6_months')\n",
    "      masterData.loc[val[0], 'source_performance_6_months'] = float(str(val[1])[1:-1])\n"
   ]
  },
  {
   "cell_type": "code",
   "execution_count": 28,
   "metadata": {},
   "outputs": [
    {
     "data": {
      "text/plain": [
       "139825"
      ]
     },
     "execution_count": 28,
     "metadata": {},
     "output_type": "execute_result"
    }
   ],
   "source": [
    "#check if the value is inserted\n",
    "masterData.source_performance_6_months.isnull().sum()"
   ]
  },
  {
   "cell_type": "code",
   "execution_count": 29,
   "metadata": {},
   "outputs": [
    {
     "name": "stderr",
     "output_type": "stream",
     "text": [
      "C:\\Users\\VigneshwarPesaru\\anaconda3\\lib\\site-packages\\seaborn\\_decorators.py:36: FutureWarning: Pass the following variable as a keyword arg: x. From version 0.12, the only valid positional argument will be `data`, and passing other arguments without an explicit keyword will result in an error or misinterpretation.\n",
      "  warnings.warn(\n"
     ]
    },
    {
     "data": {
      "text/plain": [
       "[Text(0.5, 1.0, 'Source Performance Range and Distribution')]"
      ]
     },
     "execution_count": 29,
     "metadata": {},
     "output_type": "execute_result"
    },
    {
     "data": {
      "image/png": "[encoded data removed]",
      "text/plain": [
       "<Figure size 432x288 with 1 Axes>"
      ]
     },
     "metadata": {
      "needs_background": "light"
     },
     "output_type": "display_data"
    }
   ],
   "source": [
    "#View range and distribution through violin chart\n",
    "sns.violinplot(masterData.source_performance_6_months).set(title='Source Performance Range and Distribution')\n",
    "#sns.plt.title('Transit Duration Range and Distribution')"
   ]
  },
  {
   "cell_type": "code",
   "execution_count": 30,
   "metadata": {},
   "outputs": [],
   "source": [
    "#Imputing the missing values in the source_performance_6_months field with the median values\n",
    "masterData.source_performance_6_months.fillna(masterData.source_performance_6_months.median(), inplace = True)"
   ]
  },
  {
   "cell_type": "code",
   "execution_count": 31,
   "metadata": {},
   "outputs": [
    {
     "data": {
      "text/plain": [
       "0"
      ]
     },
     "execution_count": 31,
     "metadata": {},
     "output_type": "execute_result"
    }
   ],
   "source": [
    "masterData.source_performance_6_months.isnull().sum()"
   ]
  },
  {
   "cell_type": "code",
   "execution_count": 32,
   "metadata": {},
   "outputs": [
    {
     "name": "stderr",
     "output_type": "stream",
     "text": [
      "C:\\Users\\VigneshwarPesaru\\anaconda3\\lib\\site-packages\\seaborn\\_decorators.py:36: FutureWarning: Pass the following variable as a keyword arg: x. From version 0.12, the only valid positional argument will be `data`, and passing other arguments without an explicit keyword will result in an error or misinterpretation.\n",
      "  warnings.warn(\n"
     ]
    },
    {
     "data": {
      "text/plain": [
       "[Text(0.5, 1.0, 'Source Performance of 12 months Range and Distribution')]"
      ]
     },
     "execution_count": 32,
     "metadata": {},
     "output_type": "execute_result"
    },
    {
     "data": {
      "image/png": "[encoded data removed]",
      "text/plain": [
       "<Figure size 432x288 with 1 Axes>"
      ]
     },
     "metadata": {
      "needs_background": "light"
     },
     "output_type": "display_data"
    }
   ],
   "source": [
    "#View range and distribution of the source_performance_12_months\n",
    "sns.violinplot(masterData.source_performance_12_months).set(title='Source Performance of 12 months Range and Distribution')"
   ]
  },
  {
   "cell_type": "code",
   "execution_count": 33,
   "metadata": {},
   "outputs": [
    {
     "data": {
      "text/plain": [
       "0"
      ]
     },
     "execution_count": 33,
     "metadata": {},
     "output_type": "execute_result"
    }
   ],
   "source": [
    "#imputing the null values with the median values\n",
    "masterData.source_performance_12_months.fillna(masterData.source_performance_12_months.median(), inplace = True)\n",
    "masterData.source_performance_12_months.isnull().sum()"
   ]
  },
  {
   "cell_type": "markdown",
   "metadata": {},
   "source": [
    "# Handling the Repetitive values\n"
   ]
  },
  {
   "cell_type": "markdown",
   "metadata": {},
   "source": [
    "It can be seen that there are 0's in our masterData.Lets find out the percentage of repeatitions of 0's. If any of the \n",
    "columns has more than the 60%, we can safely drop that column. This kind of data trend canbe viewed on violin plot"
   ]
  },
  {
   "cell_type": "code",
   "execution_count": 34,
   "metadata": {},
   "outputs": [
    {
     "name": "stderr",
     "output_type": "stream",
     "text": [
      "C:\\Users\\VigneshwarPesaru\\anaconda3\\lib\\site-packages\\seaborn\\_decorators.py:36: FutureWarning: Pass the following variable as a keyword arg: x. From version 0.12, the only valid positional argument will be `data`, and passing other arguments without an explicit keyword will result in an error or misinterpretation.\n",
      "  warnings.warn(\n",
      "C:\\Users\\VigneshwarPesaru\\anaconda3\\lib\\site-packages\\seaborn\\_decorators.py:36: FutureWarning: Pass the following variable as a keyword arg: x. From version 0.12, the only valid positional argument will be `data`, and passing other arguments without an explicit keyword will result in an error or misinterpretation.\n",
      "  warnings.warn(\n"
     ]
    },
    {
     "data": {
      "text/plain": [
       "[Text(0.5, 1.0, 'forecast sales of 6 months')]"
      ]
     },
     "execution_count": 34,
     "metadata": {},
     "output_type": "execute_result"
    },
    {
     "data": {
      "image/png": "[encoded data removed]",
      "text/plain": [
       "<Figure size 432x288 with 2 Axes>"
      ]
     },
     "metadata": {
      "needs_background": "light"
     },
     "output_type": "display_data"
    }
   ],
   "source": [
    "fig, ax1 = plt.subplots(ncols = 2)\n",
    "sns.violinplot(masterData.forecast_sales_3_months, ax = ax1[0]).set(title='forecast sales of 3 months')\n",
    "sns.violinplot(masterData.forecast_sales_6_months, ax = ax1[1]).set(title='forecast sales of 6 months')"
   ]
  },
  {
   "cell_type": "code",
   "execution_count": 35,
   "metadata": {},
   "outputs": [],
   "source": [
    "#Calculating the percentage of repeatitions of 0's in each column\n",
    "perct_0 = {column: '%2.2f' %(((masterData[column] == 0).sum()/masterData.shape[0])*100)+'%' for column in masterData.columns\n",
    "                             if masterData[column].dtype == np.float64}"
   ]
  },
  {
   "cell_type": "code",
   "execution_count": 36,
   "metadata": {},
   "outputs": [
    {
     "data": {
      "text/plain": [
       "{'current_inventory': '6.38%',\n",
       " 'transit_duration': '0.62%',\n",
       " 'transit_quantity': '79.90%',\n",
       " 'forecast_sales_3_months': '69.83%',\n",
       " 'forecast_sales_6_months': '64.26%',\n",
       " 'forecast_sales_9_months': '61.25%',\n",
       " 'prior_sales_1_month': '57.00%',\n",
       " 'prior_sales_3_month': '45.03%',\n",
       " 'prior_sales_6_month': '38.32%',\n",
       " 'prior_sales_9_month': '34.71%',\n",
       " 'minimum_recommend_stock': '51.67%',\n",
       " 'source_overdue': '98.53%',\n",
       " 'source_performance_6_months': '2.31%',\n",
       " 'source_performance_12_months': '1.96%',\n",
       " 'stock_overdue': '98.64%'}"
      ]
     },
     "execution_count": 36,
     "metadata": {},
     "output_type": "execute_result"
    }
   ],
   "source": [
    "perct_0"
   ]
  },
  {
   "cell_type": "code",
   "execution_count": 37,
   "metadata": {},
   "outputs": [],
   "source": [
    "#Dropping the columns with the percentage of 0's more than 60%\n",
    "masterData = masterData.drop(['transit_quantity', 'forecast_sales_3_months', 'forecast_sales_6_months',\n",
    "                             'forecast_sales_9_months', 'source_overdue', 'stock_overdue'], axis = 1)"
   ]
  },
  {
   "cell_type": "code",
   "execution_count": 38,
   "metadata": {},
   "outputs": [
    {
     "data": {
      "text/plain": [
       "(1929934, 17)"
      ]
     },
     "execution_count": 38,
     "metadata": {},
     "output_type": "execute_result"
    }
   ],
   "source": [
    "masterData.shape"
   ]
  },
  {
   "cell_type": "markdown",
   "metadata": {},
   "source": [
    "# Handling the outliers"
   ]
  },
  {
   "cell_type": "code",
   "execution_count": 39,
   "metadata": {},
   "outputs": [
    {
     "name": "stderr",
     "output_type": "stream",
     "text": [
      "C:\\Users\\VigneshwarPesaru\\anaconda3\\lib\\site-packages\\seaborn\\_decorators.py:36: FutureWarning: Pass the following variable as a keyword arg: x. From version 0.12, the only valid positional argument will be `data`, and passing other arguments without an explicit keyword will result in an error or misinterpretation.\n",
      "  warnings.warn(\n",
      "C:\\Users\\VigneshwarPesaru\\anaconda3\\lib\\site-packages\\seaborn\\_decorators.py:36: FutureWarning: Pass the following variable as a keyword arg: x. From version 0.12, the only valid positional argument will be `data`, and passing other arguments without an explicit keyword will result in an error or misinterpretation.\n",
      "  warnings.warn(\n",
      "C:\\Users\\VigneshwarPesaru\\anaconda3\\lib\\site-packages\\seaborn\\_decorators.py:36: FutureWarning: Pass the following variable as a keyword arg: x. From version 0.12, the only valid positional argument will be `data`, and passing other arguments without an explicit keyword will result in an error or misinterpretation.\n",
      "  warnings.warn(\n",
      "C:\\Users\\VigneshwarPesaru\\anaconda3\\lib\\site-packages\\seaborn\\_decorators.py:36: FutureWarning: Pass the following variable as a keyword arg: x. From version 0.12, the only valid positional argument will be `data`, and passing other arguments without an explicit keyword will result in an error or misinterpretation.\n",
      "  warnings.warn(\n",
      "C:\\Users\\VigneshwarPesaru\\anaconda3\\lib\\site-packages\\seaborn\\_decorators.py:36: FutureWarning: Pass the following variable as a keyword arg: x. From version 0.12, the only valid positional argument will be `data`, and passing other arguments without an explicit keyword will result in an error or misinterpretation.\n",
      "  warnings.warn(\n",
      "C:\\Users\\VigneshwarPesaru\\anaconda3\\lib\\site-packages\\seaborn\\_decorators.py:36: FutureWarning: Pass the following variable as a keyword arg: x. From version 0.12, the only valid positional argument will be `data`, and passing other arguments without an explicit keyword will result in an error or misinterpretation.\n",
      "  warnings.warn(\n",
      "C:\\Users\\VigneshwarPesaru\\anaconda3\\lib\\site-packages\\seaborn\\_decorators.py:36: FutureWarning: Pass the following variable as a keyword arg: x. From version 0.12, the only valid positional argument will be `data`, and passing other arguments without an explicit keyword will result in an error or misinterpretation.\n",
      "  warnings.warn(\n",
      "C:\\Users\\VigneshwarPesaru\\anaconda3\\lib\\site-packages\\seaborn\\_decorators.py:36: FutureWarning: Pass the following variable as a keyword arg: x. From version 0.12, the only valid positional argument will be `data`, and passing other arguments without an explicit keyword will result in an error or misinterpretation.\n",
      "  warnings.warn(\n",
      "C:\\Users\\VigneshwarPesaru\\anaconda3\\lib\\site-packages\\seaborn\\_decorators.py:36: FutureWarning: Pass the following variable as a keyword arg: x. From version 0.12, the only valid positional argument will be `data`, and passing other arguments without an explicit keyword will result in an error or misinterpretation.\n",
      "  warnings.warn(\n"
     ]
    },
    {
     "data": {
      "text/plain": [
       "<AxesSubplot:xlabel='source_performance_12_months'>"
      ]
     },
     "execution_count": 39,
     "metadata": {},
     "output_type": "execute_result"
    },
    {
     "data": {
      "image/png": "[encoded data removed]",
      "text/plain": [
       "<Figure size 1080x1080 with 9 Axes>"
      ]
     },
     "metadata": {
      "needs_background": "light"
     },
     "output_type": "display_data"
    }
   ],
   "source": [
    "nrows = 3\n",
    "ncols = 3\n",
    "fig, ax1 = plt.subplots(nrows, ncols, figsize = (15, 15))\n",
    "sns.boxplot(masterData.current_inventory, ax = ax1[0,0])\n",
    "sns.boxplot(masterData.transit_duration, ax = ax1[0,1])\n",
    "sns.boxplot(masterData.prior_sales_1_month, ax = ax1[0,2])\n",
    "sns.boxplot(masterData.prior_sales_3_month, ax = ax1[1,0])\n",
    "sns.boxplot(masterData.prior_sales_6_month, ax = ax1[1,1])\n",
    "sns.boxplot(masterData.prior_sales_9_month, ax = ax1[1,2])\n",
    "sns.boxplot(masterData.minimum_recommend_stock, ax = ax1[2,0])\n",
    "sns.boxplot(masterData.source_performance_6_months, ax = ax1[2,1])\n",
    "sns.boxplot(masterData.source_performance_12_months, ax = ax1[2,2])\n"
   ]
  },
  {
   "cell_type": "raw",
   "metadata": {},
   "source": [
    "Lets define a function to find the whisker values(in other words, upper and lower IQR boundaries for outliers"
   ]
  },
  {
   "cell_type": "code",
   "execution_count": 40,
   "metadata": {},
   "outputs": [],
   "source": [
    "def get_outlier_boundaries(column):\n",
    "    q75, q25 =  np.percentile(column, [75, 25])\n",
    "    iqr = q75 - q25\n",
    "    lower = q25 - 1.5*iqr\n",
    "    upper = q75 + 1.5*iqr\n",
    "    return lower,upper\n",
    "    "
   ]
  },
  {
   "cell_type": "code",
   "execution_count": 41,
   "metadata": {},
   "outputs": [
    {
     "name": "stdout",
     "output_type": "stream",
     "text": [
      "14.0 -2.0\n"
     ]
    },
    {
     "data": {
      "text/plain": [
       "No     54880\n",
       "Yes      135\n",
       "Name: went_on_backorder, dtype: int64"
      ]
     },
     "execution_count": 41,
     "metadata": {},
     "output_type": "execute_result"
    }
   ],
   "source": [
    "transit_duration_upper = get_outlier_boundaries(masterData.transit_duration)[1]\n",
    "transit_duration_lower = get_outlier_boundaries(masterData.transit_duration)[0]\n",
    "print(transit_duration_upper, transit_duration_lower)\n",
    "outlier_transit_duration = masterData[masterData.transit_duration > transit_duration_upper]\n",
    "#print(outlier_transit_duration.shape)\n",
    "outlier_transit_duration.went_on_backorder.value_counts()"
   ]
  },
  {
   "cell_type": "code",
   "execution_count": 42,
   "metadata": {},
   "outputs": [
    {
     "name": "stderr",
     "output_type": "stream",
     "text": [
      "C:\\Users\\VigneshwarPesaru\\anaconda3\\lib\\site-packages\\seaborn\\_decorators.py:36: FutureWarning: Pass the following variable as a keyword arg: x. From version 0.12, the only valid positional argument will be `data`, and passing other arguments without an explicit keyword will result in an error or misinterpretation.\n",
      "  warnings.warn(\n"
     ]
    },
    {
     "data": {
      "image/png": "[encoded data removed]",
      "text/plain": [
       "<Figure size 432x288 with 1 Axes>"
      ]
     },
     "metadata": {
      "needs_background": "light"
     },
     "output_type": "display_data"
    }
   ],
   "source": [
    "masterData = masterData.drop(outlier_transit_duration.index)\n",
    "cleaned_ = sns.boxplot(masterData.transit_duration)"
   ]
  },
  {
   "cell_type": "code",
   "execution_count": 43,
   "metadata": {
    "scrolled": true
   },
   "outputs": [
    {
     "name": "stderr",
     "output_type": "stream",
     "text": [
      "C:\\Users\\VigneshwarPesaru\\anaconda3\\lib\\site-packages\\seaborn\\distributions.py:2551: FutureWarning: `distplot` is a deprecated function and will be removed in a future version. Please adapt your code to use either `displot` (a figure-level function with similar flexibility) or `histplot` (an axes-level function for histograms).\n",
      "  warnings.warn(msg, FutureWarning)\n"
     ]
    },
    {
     "data": {
      "text/plain": [
       "<AxesSubplot:xlabel='transit_duration', ylabel='Density'>"
      ]
     },
     "execution_count": 43,
     "metadata": {},
     "output_type": "execute_result"
    },
    {
     "data": {
      "image/png": "[encoded data removed]",
      "text/plain": [
       "<Figure size 432x288 with 1 Axes>"
      ]
     },
     "metadata": {
      "needs_background": "light"
     },
     "output_type": "display_data"
    }
   ],
   "source": [
    "sns.distplot(masterData.transit_duration)"
   ]
  },
  {
   "cell_type": "code",
   "execution_count": 44,
   "metadata": {},
   "outputs": [
    {
     "data": {
      "text/plain": [
       "(8, 17)"
      ]
     },
     "execution_count": 44,
     "metadata": {},
     "output_type": "execute_result"
    }
   ],
   "source": [
    "#dropping outliers of minimum recommended stock\n",
    "outlier_minimum_recommended_stock = masterData[masterData.minimum_recommend_stock > 250000]\n",
    "outlier_minimum_recommended_stock.shape\n",
    "#print(outlier_minimum_recommended_stock)"
   ]
  },
  {
   "cell_type": "code",
   "execution_count": 45,
   "metadata": {},
   "outputs": [],
   "source": [
    "#lets delete the outlier of the minimum_recommend_stock\n",
    "masterData = masterData.drop(outlier_minimum_recommended_stock.index, errors = 'ignore')"
   ]
  },
  {
   "cell_type": "code",
   "execution_count": 46,
   "metadata": {},
   "outputs": [],
   "source": [
    "outlier_current_inventory = masterData[masterData.current_inventory > .2e07]\n",
    "outlier_current_inventory.shape\n",
    "#since the count is low, we can drop these records\n",
    "masterData = masterData.drop(outlier_current_inventory.index, errors = 'ignore')"
   ]
  },
  {
   "cell_type": "code",
   "execution_count": null,
   "metadata": {},
   "outputs": [],
   "source": [
    "masterData.to_csv('Backorder.csv', index = False)"
   ]
  },
  {
   "cell_type": "code",
   "execution_count": null,
   "metadata": {},
   "outputs": [],
   "source": []
  }
 ],
 "metadata": {
  "kernelspec": {
   "display_name": "Python 3",
   "language": "python",
   "name": "python3"
  },
  "language_info": {
   "codemirror_mode": {
    "name": "ipython",
    "version": 3
   },
   "file_extension": ".py",
   "mimetype": "text/x-python",
   "name": "python",
   "nbconvert_exporter": "python",
   "pygments_lexer": "ipython3",
   "version": "3.8.5"
  }
 },
 "nbformat": 4,
 "nbformat_minor": 4
}
