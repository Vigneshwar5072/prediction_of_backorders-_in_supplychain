{
 "cells": [
  {
   "cell_type": "markdown",
   "metadata": {},
   "source": [
    "# Exploratory Data Analysis on the Supply chain Backorders"
   ]
  },
  {
   "cell_type": "code",
   "execution_count": 11,
   "metadata": {},
   "outputs": [],
   "source": [
    "#Importing the packages\n",
    "import pandas as pd\n",
    "import numpy as np\n",
    "import matplotlib.pylab as plt\n",
    "import seaborn as sns\n",
    "from scipy import stats as st\n"
   ]
  },
  {
   "cell_type": "code",
   "execution_count": 12,
   "metadata": {},
   "outputs": [
    {
     "data": {
      "text/html": [
       "<div>\n",
       "<style scoped>\n",
       "    .dataframe tbody tr th:only-of-type {\n",
       "        vertical-align: middle;\n",
       "    }\n",
       "\n",
       "    .dataframe tbody tr th {\n",
       "        vertical-align: top;\n",
       "    }\n",
       "\n",
       "    .dataframe thead th {\n",
       "        text-align: right;\n",
       "    }\n",
       "</style>\n",
       "<table border=\"1\" class=\"dataframe\">\n",
       "  <thead>\n",
       "    <tr style=\"text-align: right;\">\n",
       "      <th></th>\n",
       "      <th>product_id</th>\n",
       "      <th>current_inventory</th>\n",
       "      <th>transit_duration</th>\n",
       "      <th>prior_sales_1_month</th>\n",
       "      <th>prior_sales_3_month</th>\n",
       "      <th>prior_sales_6_month</th>\n",
       "      <th>prior_sales_9_month</th>\n",
       "      <th>minimum_recommend_stock</th>\n",
       "      <th>source_has_issue</th>\n",
       "      <th>source_performance_6_months</th>\n",
       "      <th>source_performance_12_months</th>\n",
       "      <th>deck_risk</th>\n",
       "      <th>oe_constraint</th>\n",
       "      <th>ppap_risk</th>\n",
       "      <th>stop_auto_buy</th>\n",
       "      <th>rev_stop</th>\n",
       "      <th>went_on_backorder</th>\n",
       "    </tr>\n",
       "  </thead>\n",
       "  <tbody>\n",
       "    <tr>\n",
       "      <th>0</th>\n",
       "      <td>1026827</td>\n",
       "      <td>0.0</td>\n",
       "      <td>8.0</td>\n",
       "      <td>0.0</td>\n",
       "      <td>0.0</td>\n",
       "      <td>0.0</td>\n",
       "      <td>0.0</td>\n",
       "      <td>0.0</td>\n",
       "      <td>No</td>\n",
       "      <td>0.84</td>\n",
       "      <td>0.83</td>\n",
       "      <td>No</td>\n",
       "      <td>No</td>\n",
       "      <td>No</td>\n",
       "      <td>Yes</td>\n",
       "      <td>No</td>\n",
       "      <td>No</td>\n",
       "    </tr>\n",
       "    <tr>\n",
       "      <th>1</th>\n",
       "      <td>1043384</td>\n",
       "      <td>2.0</td>\n",
       "      <td>9.0</td>\n",
       "      <td>0.0</td>\n",
       "      <td>0.0</td>\n",
       "      <td>0.0</td>\n",
       "      <td>0.0</td>\n",
       "      <td>0.0</td>\n",
       "      <td>No</td>\n",
       "      <td>0.99</td>\n",
       "      <td>0.99</td>\n",
       "      <td>No</td>\n",
       "      <td>No</td>\n",
       "      <td>No</td>\n",
       "      <td>Yes</td>\n",
       "      <td>No</td>\n",
       "      <td>No</td>\n",
       "    </tr>\n",
       "    <tr>\n",
       "      <th>2</th>\n",
       "      <td>1043696</td>\n",
       "      <td>2.0</td>\n",
       "      <td>8.0</td>\n",
       "      <td>0.0</td>\n",
       "      <td>0.0</td>\n",
       "      <td>0.0</td>\n",
       "      <td>0.0</td>\n",
       "      <td>0.0</td>\n",
       "      <td>No</td>\n",
       "      <td>0.84</td>\n",
       "      <td>0.83</td>\n",
       "      <td>Yes</td>\n",
       "      <td>No</td>\n",
       "      <td>No</td>\n",
       "      <td>Yes</td>\n",
       "      <td>No</td>\n",
       "      <td>No</td>\n",
       "    </tr>\n",
       "    <tr>\n",
       "      <th>3</th>\n",
       "      <td>1043852</td>\n",
       "      <td>7.0</td>\n",
       "      <td>8.0</td>\n",
       "      <td>0.0</td>\n",
       "      <td>0.0</td>\n",
       "      <td>0.0</td>\n",
       "      <td>0.0</td>\n",
       "      <td>1.0</td>\n",
       "      <td>No</td>\n",
       "      <td>0.10</td>\n",
       "      <td>0.13</td>\n",
       "      <td>No</td>\n",
       "      <td>No</td>\n",
       "      <td>No</td>\n",
       "      <td>Yes</td>\n",
       "      <td>No</td>\n",
       "      <td>No</td>\n",
       "    </tr>\n",
       "    <tr>\n",
       "      <th>4</th>\n",
       "      <td>1044048</td>\n",
       "      <td>8.0</td>\n",
       "      <td>8.0</td>\n",
       "      <td>0.0</td>\n",
       "      <td>0.0</td>\n",
       "      <td>0.0</td>\n",
       "      <td>4.0</td>\n",
       "      <td>2.0</td>\n",
       "      <td>No</td>\n",
       "      <td>0.84</td>\n",
       "      <td>0.83</td>\n",
       "      <td>Yes</td>\n",
       "      <td>No</td>\n",
       "      <td>No</td>\n",
       "      <td>Yes</td>\n",
       "      <td>No</td>\n",
       "      <td>No</td>\n",
       "    </tr>\n",
       "  </tbody>\n",
       "</table>\n",
       "</div>"
      ],
      "text/plain": [
       "   product_id  current_inventory  transit_duration  prior_sales_1_month  \\\n",
       "0     1026827                0.0               8.0                  0.0   \n",
       "1     1043384                2.0               9.0                  0.0   \n",
       "2     1043696                2.0               8.0                  0.0   \n",
       "3     1043852                7.0               8.0                  0.0   \n",
       "4     1044048                8.0               8.0                  0.0   \n",
       "\n",
       "   prior_sales_3_month  prior_sales_6_month  prior_sales_9_month  \\\n",
       "0                  0.0                  0.0                  0.0   \n",
       "1                  0.0                  0.0                  0.0   \n",
       "2                  0.0                  0.0                  0.0   \n",
       "3                  0.0                  0.0                  0.0   \n",
       "4                  0.0                  0.0                  4.0   \n",
       "\n",
       "   minimum_recommend_stock source_has_issue  source_performance_6_months  \\\n",
       "0                      0.0               No                         0.84   \n",
       "1                      0.0               No                         0.99   \n",
       "2                      0.0               No                         0.84   \n",
       "3                      1.0               No                         0.10   \n",
       "4                      2.0               No                         0.84   \n",
       "\n",
       "   source_performance_12_months deck_risk oe_constraint ppap_risk  \\\n",
       "0                          0.83        No            No        No   \n",
       "1                          0.99        No            No        No   \n",
       "2                          0.83       Yes            No        No   \n",
       "3                          0.13        No            No        No   \n",
       "4                          0.83       Yes            No        No   \n",
       "\n",
       "  stop_auto_buy rev_stop went_on_backorder  \n",
       "0           Yes       No                No  \n",
       "1           Yes       No                No  \n",
       "2           Yes       No                No  \n",
       "3           Yes       No                No  \n",
       "4           Yes       No                No  "
      ]
     },
     "execution_count": 12,
     "metadata": {},
     "output_type": "execute_result"
    }
   ],
   "source": [
    "masterData = pd.read_csv('Backorder.csv')\n",
    "masterData.head()"
   ]
  },
  {
   "cell_type": "code",
   "execution_count": 13,
   "metadata": {},
   "outputs": [
    {
     "name": "stdout",
     "output_type": "stream",
     "text": [
      "<class 'pandas.core.frame.DataFrame'>\n",
      "RangeIndex: 1861509 entries, 0 to 1861508\n",
      "Data columns (total 17 columns):\n",
      " #   Column                        Dtype  \n",
      "---  ------                        -----  \n",
      " 0   product_id                    int64  \n",
      " 1   current_inventory             float64\n",
      " 2   transit_duration              float64\n",
      " 3   prior_sales_1_month           float64\n",
      " 4   prior_sales_3_month           float64\n",
      " 5   prior_sales_6_month           float64\n",
      " 6   prior_sales_9_month           float64\n",
      " 7   minimum_recommend_stock       float64\n",
      " 8   source_has_issue              object \n",
      " 9   source_performance_6_months   float64\n",
      " 10  source_performance_12_months  float64\n",
      " 11  deck_risk                     object \n",
      " 12  oe_constraint                 object \n",
      " 13  ppap_risk                     object \n",
      " 14  stop_auto_buy                 object \n",
      " 15  rev_stop                      object \n",
      " 16  went_on_backorder             object \n",
      "dtypes: float64(9), int64(1), object(7)\n",
      "memory usage: 241.4+ MB\n"
     ]
    }
   ],
   "source": [
    "masterData.info()"
   ]
  },
  {
   "cell_type": "code",
   "execution_count": 14,
   "metadata": {},
   "outputs": [],
   "source": [
    "masterData = masterData.drop(['oe_constraint', 'rev_stop', 'source_has_issue'], axis = 1)"
   ]
  },
  {
   "cell_type": "code",
   "execution_count": 15,
   "metadata": {},
   "outputs": [
    {
     "name": "stdout",
     "output_type": "stream",
     "text": [
      "<class 'pandas.core.frame.DataFrame'>\n",
      "RangeIndex: 1861509 entries, 0 to 1861508\n",
      "Data columns (total 14 columns):\n",
      " #   Column                        Dtype  \n",
      "---  ------                        -----  \n",
      " 0   product_id                    int64  \n",
      " 1   current_inventory             float64\n",
      " 2   transit_duration              float64\n",
      " 3   prior_sales_1_month           float64\n",
      " 4   prior_sales_3_month           float64\n",
      " 5   prior_sales_6_month           float64\n",
      " 6   prior_sales_9_month           float64\n",
      " 7   minimum_recommend_stock       float64\n",
      " 8   source_performance_6_months   float64\n",
      " 9   source_performance_12_months  float64\n",
      " 10  deck_risk                     object \n",
      " 11  ppap_risk                     object \n",
      " 12  stop_auto_buy                 object \n",
      " 13  went_on_backorder             object \n",
      "dtypes: float64(9), int64(1), object(4)\n",
      "memory usage: 198.8+ MB\n"
     ]
    }
   ],
   "source": [
    "masterData.info()"
   ]
  },
  {
   "cell_type": "code",
   "execution_count": 16,
   "metadata": {},
   "outputs": [
    {
     "data": {
      "text/html": [
       "<div>\n",
       "<style scoped>\n",
       "    .dataframe tbody tr th:only-of-type {\n",
       "        vertical-align: middle;\n",
       "    }\n",
       "\n",
       "    .dataframe tbody tr th {\n",
       "        vertical-align: top;\n",
       "    }\n",
       "\n",
       "    .dataframe thead th {\n",
       "        text-align: right;\n",
       "    }\n",
       "</style>\n",
       "<table border=\"1\" class=\"dataframe\">\n",
       "  <thead>\n",
       "    <tr style=\"text-align: right;\">\n",
       "      <th></th>\n",
       "      <th>source_performance_6_months</th>\n",
       "      <th>source_performance_12_months</th>\n",
       "    </tr>\n",
       "  </thead>\n",
       "  <tbody>\n",
       "    <tr>\n",
       "      <th>source_performance_6_months</th>\n",
       "      <td>1.000000</td>\n",
       "      <td>0.939748</td>\n",
       "    </tr>\n",
       "    <tr>\n",
       "      <th>source_performance_12_months</th>\n",
       "      <td>0.939748</td>\n",
       "      <td>1.000000</td>\n",
       "    </tr>\n",
       "  </tbody>\n",
       "</table>\n",
       "</div>"
      ],
      "text/plain": [
       "                              source_performance_6_months  \\\n",
       "source_performance_6_months                      1.000000   \n",
       "source_performance_12_months                     0.939748   \n",
       "\n",
       "                              source_performance_12_months  \n",
       "source_performance_6_months                       0.939748  \n",
       "source_performance_12_months                      1.000000  "
      ]
     },
     "execution_count": 16,
     "metadata": {},
     "output_type": "execute_result"
    }
   ],
   "source": [
    "subset_masterData = masterData.sample(5000)\n",
    "sourceperf_corr_df = subset_masterData[['source_performance_6_months', 'source_performance_12_months']]\n",
    "sourceperf_corr = sourceperf_corr_df.corr()\n",
    "sourceperf_corr"
   ]
  },
  {
   "cell_type": "code",
   "execution_count": 17,
   "metadata": {},
   "outputs": [
    {
     "data": {
      "image/png": "[encoded data removed]",
      "text/plain": [
       "<Figure size 432x288 with 2 Axes>"
      ]
     },
     "metadata": {
      "needs_background": "light"
     },
     "output_type": "display_data"
    }
   ],
   "source": [
    "corr_plot = sns.heatmap(sourceperf_corr, annot = True)"
   ]
  },
  {
   "cell_type": "code",
   "execution_count": 18,
   "metadata": {},
   "outputs": [
    {
     "name": "stderr",
     "output_type": "stream",
     "text": [
      "C:\\Users\\VigneshwarPesaru\\anaconda3\\lib\\site-packages\\seaborn\\_decorators.py:36: FutureWarning: Pass the following variables as keyword args: x, y. From version 0.12, the only valid positional argument will be `data`, and passing other arguments without an explicit keyword will result in an error or misinterpretation.\n",
      "  warnings.warn(\n"
     ]
    },
    {
     "data": {
      "image/png": "[encoded data removed]",
      "text/plain": [
       "<Figure size 432x432 with 3 Axes>"
      ]
     },
     "metadata": {
      "needs_background": "light"
     },
     "output_type": "display_data"
    }
   ],
   "source": [
    "scattered_plot = sns.jointplot('source_performance_6_months', 'source_performance_12_months', data = subset_masterData, kind = 'reg')"
   ]
  },
  {
   "cell_type": "markdown",
   "metadata": {},
   "source": [
    "We can see that the expected performance over 6 and 12 months periods are highly correlated"
   ]
  },
  {
   "cell_type": "code",
   "execution_count": 19,
   "metadata": {},
   "outputs": [
    {
     "data": {
      "text/html": [
       "<div>\n",
       "<style scoped>\n",
       "    .dataframe tbody tr th:only-of-type {\n",
       "        vertical-align: middle;\n",
       "    }\n",
       "\n",
       "    .dataframe tbody tr th {\n",
       "        vertical-align: top;\n",
       "    }\n",
       "\n",
       "    .dataframe thead th {\n",
       "        text-align: right;\n",
       "    }\n",
       "</style>\n",
       "<table border=\"1\" class=\"dataframe\">\n",
       "  <thead>\n",
       "    <tr style=\"text-align: right;\">\n",
       "      <th></th>\n",
       "      <th>prior_sales_1_month</th>\n",
       "      <th>prior_sales_3_month</th>\n",
       "      <th>prior_sales_6_month</th>\n",
       "      <th>prior_sales_9_month</th>\n",
       "    </tr>\n",
       "  </thead>\n",
       "  <tbody>\n",
       "    <tr>\n",
       "      <th>prior_sales_1_month</th>\n",
       "      <td>1.000000</td>\n",
       "      <td>0.969969</td>\n",
       "      <td>0.979396</td>\n",
       "      <td>0.973351</td>\n",
       "    </tr>\n",
       "    <tr>\n",
       "      <th>prior_sales_3_month</th>\n",
       "      <td>0.969969</td>\n",
       "      <td>1.000000</td>\n",
       "      <td>0.988523</td>\n",
       "      <td>0.991764</td>\n",
       "    </tr>\n",
       "    <tr>\n",
       "      <th>prior_sales_6_month</th>\n",
       "      <td>0.979396</td>\n",
       "      <td>0.988523</td>\n",
       "      <td>1.000000</td>\n",
       "      <td>0.997918</td>\n",
       "    </tr>\n",
       "    <tr>\n",
       "      <th>prior_sales_9_month</th>\n",
       "      <td>0.973351</td>\n",
       "      <td>0.991764</td>\n",
       "      <td>0.997918</td>\n",
       "      <td>1.000000</td>\n",
       "    </tr>\n",
       "  </tbody>\n",
       "</table>\n",
       "</div>"
      ],
      "text/plain": [
       "                     prior_sales_1_month  prior_sales_3_month  \\\n",
       "prior_sales_1_month             1.000000             0.969969   \n",
       "prior_sales_3_month             0.969969             1.000000   \n",
       "prior_sales_6_month             0.979396             0.988523   \n",
       "prior_sales_9_month             0.973351             0.991764   \n",
       "\n",
       "                     prior_sales_6_month  prior_sales_9_month  \n",
       "prior_sales_1_month             0.979396             0.973351  \n",
       "prior_sales_3_month             0.988523             0.991764  \n",
       "prior_sales_6_month             1.000000             0.997918  \n",
       "prior_sales_9_month             0.997918             1.000000  "
      ]
     },
     "execution_count": 19,
     "metadata": {},
     "output_type": "execute_result"
    }
   ],
   "source": [
    "prior_sales_corr_df = subset_masterData[['prior_sales_1_month', 'prior_sales_3_month', 'prior_sales_6_month',\n",
    "                                        'prior_sales_9_month']]\n",
    "prior_sales_corr = prior_sales_corr_df.corr()\n",
    "prior_sales_corr"
   ]
  },
  {
   "cell_type": "code",
   "execution_count": 21,
   "metadata": {},
   "outputs": [
    {
     "name": "stderr",
     "output_type": "stream",
     "text": [
      "C:\\Users\\VigneshwarPesaru\\anaconda3\\lib\\site-packages\\seaborn\\_decorators.py:36: FutureWarning: Pass the following variables as keyword args: x, y. From version 0.12, the only valid positional argument will be `data`, and passing other arguments without an explicit keyword will result in an error or misinterpretation.\n",
      "  warnings.warn(\n"
     ]
    },
    {
     "data": {
      "image/png": "[encoded data removed]",
      "text/plain": [
       "<Figure size 432x432 with 3 Axes>"
      ]
     },
     "metadata": {
      "needs_background": "light"
     },
     "output_type": "display_data"
    }
   ],
   "source": [
    "prior_sales_scatter_plot = sns.jointplot('prior_sales_1_month', 'prior_sales_9_month', data = subset_masterData, kind = 'reg')\n"
   ]
  },
  {
   "cell_type": "code",
   "execution_count": 20,
   "metadata": {},
   "outputs": [
    {
     "data": {
      "image/png": "[encoded data removed]",
      "text/plain": [
       "<Figure size 432x288 with 1 Axes>"
      ]
     },
     "metadata": {
      "needs_background": "light"
     },
     "output_type": "display_data"
    }
   ],
   "source": [
    "bar_plot = plt.hist(subset_masterData.transit_duration)"
   ]
  },
  {
   "cell_type": "markdown",
   "metadata": {},
   "source": [
    "Observation: It can be clearly seen that most of the transit_duration is in between 2-24 with the highest peak transition \n",
    "    is for 8 weeks windows followed by 2 weeks and 12 weeks window."
   ]
  },
  {
   "cell_type": "code",
   "execution_count": 23,
   "metadata": {},
   "outputs": [
    {
     "data": {
      "text/plain": [
       "<AxesSubplot:xlabel='went_on_backorder', ylabel='transit_duration'>"
      ]
     },
     "execution_count": 23,
     "metadata": {},
     "output_type": "execute_result"
    },
    {
     "data": {
      "image/png": "[encoded data removed]",
      "text/plain": [
       "<Figure size 432x288 with 1 Axes>"
      ]
     },
     "metadata": {
      "needs_background": "light"
     },
     "output_type": "display_data"
    }
   ],
   "source": [
    "sns.stripplot(x = 'went_on_backorder', y = 'transit_duration', data = masterData, jitter = True)"
   ]
  },
  {
   "cell_type": "code",
   "execution_count": 25,
   "metadata": {},
   "outputs": [
    {
     "data": {
      "text/plain": [
       "<AxesSubplot:xlabel='went_on_backorder', ylabel='transit_duration'>"
      ]
     },
     "execution_count": 25,
     "metadata": {},
     "output_type": "execute_result"
    },
    {
     "data": {
      "image/png": "[encoded data removed]",
      "text/plain": [
       "<Figure size 432x288 with 1 Axes>"
      ]
     },
     "metadata": {
      "needs_background": "light"
     },
     "output_type": "display_data"
    }
   ],
   "source": [
    "sns.barplot(x ='went_on_backorder', y ='transit_duration', data = subset_masterData,\n",
    "            palette ='plasma', estimator = np.std)"
   ]
  },
  {
   "cell_type": "code",
   "execution_count": 34,
   "metadata": {},
   "outputs": [
    {
     "data": {
      "text/plain": [
       "Text(0, 0.5, 'Minimum recommended/Inventory(unit)')"
      ]
     },
     "execution_count": 34,
     "metadata": {},
     "output_type": "execute_result"
    },
    {
     "data": {
      "image/png": "[encoded data removed]",
      "text/plain": [
       "<Figure size 432x288 with 1 Axes>"
      ]
     },
     "metadata": {
      "needs_background": "light"
     },
     "output_type": "display_data"
    }
   ],
   "source": [
    "plt.plot(subset_masterData.prior_sales_9_month, subset_masterData.current_inventory, marker = '.', linestyle = 'None' )\n",
    "plt.xlabel('Prior Sale 9 Months(unit)')\n",
    "plt.ylabel('Current Inventory(unit)')\n",
    "plt.plot(subset_masterData.prior_sales_9_month, subset_masterData.minimum_recommend_stock, marker = '.', linestyle = 'None' )\n",
    "plt.xlabel('Prior Sale 9 Months(unit)')\n",
    "plt.ylabel('Minimum recommended/Inventory(unit)')\n",
    "\n",
    "\n",
    "\n"
   ]
  },
  {
   "cell_type": "markdown",
   "metadata": {},
   "source": [
    "Here there are couples of observations can be drawn:\n",
    "    \n",
    "    1. There are few sku's wherein the current inventory is high as 1.4 million even when there are no prior 9 months sale.\n",
    "    \n",
    "    2. Similarly, the recommended the stock for few skus are high as 150k+ even when there are no prior 9 months sale for these products\n",
    "    \n",
    "This is an interesting obeservation can be presented to the client, this could probably might be data issue."
   ]
  },
  {
   "cell_type": "code",
   "execution_count": 42,
   "metadata": {},
   "outputs": [
    {
     "name": "stderr",
     "output_type": "stream",
     "text": [
      "C:\\Users\\VigneshwarPesaru\\anaconda3\\lib\\site-packages\\seaborn\\_decorators.py:36: FutureWarning: Pass the following variable as a keyword arg: x. From version 0.12, the only valid positional argument will be `data`, and passing other arguments without an explicit keyword will result in an error or misinterpretation.\n",
      "  warnings.warn(\n",
      "C:\\Users\\VigneshwarPesaru\\anaconda3\\lib\\site-packages\\seaborn\\_decorators.py:36: FutureWarning: Pass the following variable as a keyword arg: x. From version 0.12, the only valid positional argument will be `data`, and passing other arguments without an explicit keyword will result in an error or misinterpretation.\n",
      "  warnings.warn(\n",
      "C:\\Users\\VigneshwarPesaru\\anaconda3\\lib\\site-packages\\seaborn\\_decorators.py:36: FutureWarning: Pass the following variable as a keyword arg: x. From version 0.12, the only valid positional argument will be `data`, and passing other arguments without an explicit keyword will result in an error or misinterpretation.\n",
      "  warnings.warn(\n"
     ]
    },
    {
     "data": {
      "text/plain": [
       "<AxesSubplot:xlabel='deck_risk', ylabel='count'>"
      ]
     },
     "execution_count": 42,
     "metadata": {},
     "output_type": "execute_result"
    },
    {
     "data": {
      "image/png": "[encoded data removed]",
      "text/plain": [
       "<Figure size 1080x360 with 3 Axes>"
      ]
     },
     "metadata": {
      "needs_background": "light"
     },
     "output_type": "display_data"
    }
   ],
   "source": [
    "fig, ax = plt.subplots(ncols = 3, figsize=(15, 5))\n",
    "sns.countplot('stop_auto_buy', hue = 'went_on_backorder', data = subset_masterData, ax = ax[0])\n",
    "sns.countplot('ppap_risk', hue = 'went_on_backorder', data = subset_masterData, ax = ax[1])\n",
    "sns.countplot('deck_risk', hue = 'went_on_backorder', data = subset_masterData, ax = ax[2])\n"
   ]
  },
  {
   "cell_type": "code",
   "execution_count": 43,
   "metadata": {},
   "outputs": [],
   "source": [
    "masterData['deck_risk_n'] = masterData.deck_risk.map({'Yes':1, 'No':0})\n",
    "masterData['ppap_risk_n'] = masterData.ppap_risk.map({'Yes':1, 'No':0})\n",
    "masterData['stop_auto_buy_n'] = masterData.stop_auto_buy.map({'Yes':1, 'No':0})"
   ]
  },
  {
   "cell_type": "code",
   "execution_count": 44,
   "metadata": {},
   "outputs": [],
   "source": [
    "subset_masterData['deck_risk_n'] = subset_masterData.deck_risk.map({'Yes':1, 'No':0})\n",
    "subset_masterData['ppap_risk_n'] = subset_masterData.ppap_risk.map({'Yes':1, 'No':0})\n",
    "subset_masterData['stop_auto_buy_n'] = subset_masterData.stop_auto_buy.map({'Yes':1, 'No':0})"
   ]
  },
  {
   "cell_type": "markdown",
   "metadata": {},
   "source": [
    "Realtionship with deck_risk, ppap_risk and stop_auto_buy with the outcome variable went_backorder\n",
    "\n",
    "Inorder to further understand the relationship between the categorical variable with the outcome variable, we can\n",
    "start using the crosstabulation and chi-square test.\n",
    "\n",
    "Ho ----> Feature are independent, no association between the variables exists\n",
    "\n",
    "H1 ----> Feature are not independent; there is an association between the variable exists.\n"
   ]
  },
  {
   "cell_type": "code",
   "execution_count": 54,
   "metadata": {},
   "outputs": [
    {
     "name": "stdout",
     "output_type": "stream",
     "text": [
      "Chi-Square Critical value: 3.841458820694124\n",
      "chi_deck_risk: 219.96619262138648\n",
      "p_val_deck_risk 9.199364881374484e-50\n",
      "degree of freedom 1\n"
     ]
    }
   ],
   "source": [
    "#deck_risk relation with the backorders\n",
    "contingency_table_deck_risk = pd.crosstab(masterData.deck_risk, masterData.went_on_backorder)\n",
    "contingency_table_deck_risk.columns = ['No', 'Yes']\n",
    "contingency_table_deck_risk.index = ['No', 'Yes']\n",
    "contingency_table_deck_risk\n",
    "\n"
   ]
  },
  {
   "cell_type": "code",
   "execution_count": 47,
   "metadata": {},
   "outputs": [
    {
     "data": {
      "text/html": [
       "<div>\n",
       "<style scoped>\n",
       "    .dataframe tbody tr th:only-of-type {\n",
       "        vertical-align: middle;\n",
       "    }\n",
       "\n",
       "    .dataframe tbody tr th {\n",
       "        vertical-align: top;\n",
       "    }\n",
       "\n",
       "    .dataframe thead th {\n",
       "        text-align: right;\n",
       "    }\n",
       "</style>\n",
       "<table border=\"1\" class=\"dataframe\">\n",
       "  <thead>\n",
       "    <tr style=\"text-align: right;\">\n",
       "      <th></th>\n",
       "      <th>No</th>\n",
       "      <th>Yes</th>\n",
       "    </tr>\n",
       "  </thead>\n",
       "  <tbody>\n",
       "    <tr>\n",
       "      <th>No</th>\n",
       "      <td>1628046</td>\n",
       "      <td>11624</td>\n",
       "    </tr>\n",
       "    <tr>\n",
       "      <th>Yes</th>\n",
       "      <td>219752</td>\n",
       "      <td>2087</td>\n",
       "    </tr>\n",
       "  </tbody>\n",
       "</table>\n",
       "</div>"
      ],
      "text/plain": [
       "          No    Yes\n",
       "No   1628046  11624\n",
       "Yes   219752   2087"
      ]
     },
     "execution_count": 47,
     "metadata": {},
     "output_type": "execute_result"
    }
   ],
   "source": [
    "#ppap_risk relation with the backorders\n",
    "contingency_table_ppap_risk = pd.crosstab(masterData.ppap_risk, masterData.went_on_backorder)\n",
    "contingency_table_ppap_risk.columns = ['No', 'Yes']\n",
    "contingency_table_ppap_risk.index = ['No', 'Yes']\n",
    "contingency_table_ppap_risk\n",
    "\n",
    "\n",
    "\n"
   ]
  },
  {
   "cell_type": "code",
   "execution_count": 48,
   "metadata": {},
   "outputs": [
    {
     "data": {
      "text/html": [
       "<div>\n",
       "<style scoped>\n",
       "    .dataframe tbody tr th:only-of-type {\n",
       "        vertical-align: middle;\n",
       "    }\n",
       "\n",
       "    .dataframe tbody tr th {\n",
       "        vertical-align: top;\n",
       "    }\n",
       "\n",
       "    .dataframe thead th {\n",
       "        text-align: right;\n",
       "    }\n",
       "</style>\n",
       "<table border=\"1\" class=\"dataframe\">\n",
       "  <thead>\n",
       "    <tr style=\"text-align: right;\">\n",
       "      <th></th>\n",
       "      <th>No</th>\n",
       "      <th>Yes</th>\n",
       "    </tr>\n",
       "  </thead>\n",
       "  <tbody>\n",
       "    <tr>\n",
       "      <th>No</th>\n",
       "      <td>53993</td>\n",
       "      <td>541</td>\n",
       "    </tr>\n",
       "    <tr>\n",
       "      <th>Yes</th>\n",
       "      <td>1793805</td>\n",
       "      <td>13170</td>\n",
       "    </tr>\n",
       "  </tbody>\n",
       "</table>\n",
       "</div>"
      ],
      "text/plain": [
       "          No    Yes\n",
       "No     53993    541\n",
       "Yes  1793805  13170"
      ]
     },
     "execution_count": 48,
     "metadata": {},
     "output_type": "execute_result"
    }
   ],
   "source": [
    "#stop_auto_buy relation with the backorders\n",
    "contingency_table_stop_auto_buy = pd.crosstab(masterData.stop_auto_buy, masterData.went_on_backorder)\n",
    "contingency_table_stop_auto_buy.columns = ['No', 'Yes']\n",
    "contingency_table_stop_auto_buy.index = ['No', 'Yes']\n",
    "contingency_table_stop_auto_buy"
   ]
  },
  {
   "cell_type": "code",
   "execution_count": 55,
   "metadata": {},
   "outputs": [
    {
     "name": "stdout",
     "output_type": "stream",
     "text": [
      "Chi-Square Critical value: 3.841458820694124\n",
      "chi_deck_risk: 219.96619262138648\n",
      "p_val_deck_risk 9.199364881374484e-50\n",
      "degree of freedom 1\n"
     ]
    }
   ],
   "source": [
    "#Chi-square test for the deck_risk\n",
    "chi_deck_risk, p_val_deck_risk, dof_deck_risk, exp_deck_risk = st.chi2_contingency(contingency_table_deck_risk)\n",
    "chi2_critical = st.chi2.ppf(q = 0.95, df = dof_deck_risk)\n",
    "print('Chi-Square Critical value:', chi2_critical)\n",
    "print('chi_deck_risk:', chi_deck_risk)\n",
    "print('p_val_deck_risk',p_val_deck_risk)\n",
    "print('degree of freedom', dof_deck_risk)\n"
   ]
  },
  {
   "cell_type": "code",
   "execution_count": 57,
   "metadata": {},
   "outputs": [
    {
     "name": "stdout",
     "output_type": "stream",
     "text": [
      "Chi-Square Critical value: 3.841458820694124\n",
      "chi_ppap_risk: 143.34680161413365\n",
      "p_val_ppap_risk 4.9363394481962745e-33\n",
      "degree of freedom 1\n"
     ]
    }
   ],
   "source": [
    "#Chi-square test for ppap_risk\n",
    "chi_ppap_risk, p_val_ppap_risk, dof_ppap_risk, exp_ppap_risk = st.chi2_contingency(contingency_table_ppap_risk)\n",
    "chi2_critical = st.chi2.ppf(q = 0.95, df = dof_ppap_risk)\n",
    "print('Chi-Square Critical value:', chi2_critical)\n",
    "print('chi_ppap_risk:', chi_ppap_risk)\n",
    "print('p_val_ppap_risk',p_val_ppap_risk)\n",
    "print('degree of freedom', dof_ppap_risk)"
   ]
  },
  {
   "cell_type": "code",
   "execution_count": 58,
   "metadata": {},
   "outputs": [
    {
     "name": "stdout",
     "output_type": "stream",
     "text": [
      "Chi-Square Critical value: 3.841458820694124\n",
      "chi_stop_auto_buy: 49.797515343469925\n",
      "p_val_stop_auto_buy 1.7045969028715378e-12\n",
      "degree of freedom 1\n"
     ]
    }
   ],
   "source": [
    "#Chi-square test for stop_auto_buy\n",
    "chi_stop_auto_buy, p_val_stop_auto_buy, dof_stop_auto_buy, exp_stop_auto_buy = st.chi2_contingency(contingency_table_stop_auto_buy)\n",
    "chi2_critical = st.chi2.ppf(q = 0.95, df = dof_stop_auto_buy)\n",
    "print('Chi-Square Critical value:', chi2_critical)\n",
    "print('chi_stop_auto_buy:', chi_stop_auto_buy)\n",
    "print('p_val_stop_auto_buy',p_val_stop_auto_buy)\n",
    "print('degree of freedom', dof_stop_auto_buy)"
   ]
  },
  {
   "cell_type": "markdown",
   "metadata": {},
   "source": [
    "We used crosstabulation and chi-square to find the relation between target variable with other categorical variables. All the relations has p-values is less than 0.05 and we also have chi-square calculated value is greater than the chi-square critical value. Based on these two evidence we can reject the null hypothesis and can go with the alternate hypothesis.\n",
    "\n",
    "Here we can say that went_on_backorder is related to deck_risk,ppap_risk and stop_auto_buy, so we will keep all these features for modeling"
   ]
  },
  {
   "cell_type": "code",
   "execution_count": null,
   "metadata": {},
   "outputs": [],
   "source": []
  }
 ],
 "metadata": {
  "kernelspec": {
   "display_name": "Python 3",
   "language": "python",
   "name": "python3"
  },
  "language_info": {
   "codemirror_mode": {
    "name": "ipython",
    "version": 3
   },
   "file_extension": ".py",
   "mimetype": "text/x-python",
   "name": "python",
   "nbconvert_exporter": "python",
   "pygments_lexer": "ipython3",
   "version": "3.8.5"
  }
 },
 "nbformat": 4,
 "nbformat_minor": 4
}
